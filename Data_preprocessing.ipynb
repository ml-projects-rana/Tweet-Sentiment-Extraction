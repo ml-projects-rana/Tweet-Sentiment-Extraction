{
  "nbformat": 4,
  "nbformat_minor": 0,
  "metadata": {
    "colab": {
      "name": "Data-preprocessing.ipynb",
      "provenance": [],
      "collapsed_sections": []
    },
    "kernelspec": {
      "display_name": "Python 3",
      "name": "python3"
    },
    "language_info": {
      "name": "python"
    }
  },
  "cells": [
    {
      "cell_type": "code",
      "metadata": {
        "colab": {
          "base_uri": "https://localhost:8080/"
        },
        "id": "kwSJWm517rgc",
        "outputId": "c6c92fe0-af2a-473d-ab7e-44d3005ee20a"
      },
      "source": [
        "pip install fuzzywuzzy"
      ],
      "execution_count": null,
      "outputs": [
        {
          "output_type": "stream",
          "name": "stdout",
          "text": [
            "Collecting fuzzywuzzy\n",
            "  Downloading fuzzywuzzy-0.18.0-py2.py3-none-any.whl (18 kB)\n",
            "Installing collected packages: fuzzywuzzy\n",
            "Successfully installed fuzzywuzzy-0.18.0\n"
          ]
        }
      ]
    },
    {
      "cell_type": "code",
      "metadata": {
        "id": "EYjtBlRJMB3_"
      },
      "source": [
        "import pandas as pd\n",
        "import pickle\n",
        "import numpy as np\n",
        "from matplotlib import pyplot as plt\n",
        "import seaborn as sns\n",
        "import plotly.express as px\n",
        "import warnings\n",
        "warnings.filterwarnings(\"ignore\")\n",
        "import string\n",
        "import re\n",
        "import nltk\n",
        "# load in all the modules we're going to need\n",
        "import nltk,re,string,collections\n",
        "import tensorflow as tf\n",
        "from fuzzywuzzy import fuzz "
      ],
      "execution_count": null,
      "outputs": []
    },
    {
      "cell_type": "code",
      "metadata": {
        "colab": {
          "base_uri": "https://localhost:8080/"
        },
        "id": "aY9IQqNENhm-",
        "outputId": "2f252cf6-1f0c-4052-8bc7-4fbdd6feaeb5"
      },
      "source": [
        "from google.colab import drive\n",
        "drive.mount('/content/drive')"
      ],
      "execution_count": null,
      "outputs": [
        {
          "output_type": "stream",
          "name": "stdout",
          "text": [
            "Mounted at /content/drive\n"
          ]
        }
      ]
    },
    {
      "cell_type": "code",
      "metadata": {
        "id": "H59uhchiN8lb"
      },
      "source": [
        "train=pd.read_csv('/content/drive//My Drive/Tweet Sentiment Extraction/train.csv')\n",
        "test=pd.read_csv('/content/drive//My Drive/Tweet Sentiment Extraction/test.csv')"
      ],
      "execution_count": null,
      "outputs": []
    },
    {
      "cell_type": "code",
      "metadata": {
        "colab": {
          "base_uri": "https://localhost:8080/",
          "height": 204
        },
        "id": "8zpGP3sYN_vh",
        "outputId": "b9d28ec7-1fd6-4646-a073-a6668667e454"
      },
      "source": [
        "train.head()"
      ],
      "execution_count": null,
      "outputs": [
        {
          "output_type": "execute_result",
          "data": {
            "text/html": [
              "<div>\n",
              "<style scoped>\n",
              "    .dataframe tbody tr th:only-of-type {\n",
              "        vertical-align: middle;\n",
              "    }\n",
              "\n",
              "    .dataframe tbody tr th {\n",
              "        vertical-align: top;\n",
              "    }\n",
              "\n",
              "    .dataframe thead th {\n",
              "        text-align: right;\n",
              "    }\n",
              "</style>\n",
              "<table border=\"1\" class=\"dataframe\">\n",
              "  <thead>\n",
              "    <tr style=\"text-align: right;\">\n",
              "      <th></th>\n",
              "      <th>textID</th>\n",
              "      <th>text</th>\n",
              "      <th>selected_text</th>\n",
              "      <th>sentiment</th>\n",
              "    </tr>\n",
              "  </thead>\n",
              "  <tbody>\n",
              "    <tr>\n",
              "      <th>0</th>\n",
              "      <td>cb774db0d1</td>\n",
              "      <td>I`d have responded, if I were going</td>\n",
              "      <td>I`d have responded, if I were going</td>\n",
              "      <td>neutral</td>\n",
              "    </tr>\n",
              "    <tr>\n",
              "      <th>1</th>\n",
              "      <td>549e992a42</td>\n",
              "      <td>Sooo SAD I will miss you here in San Diego!!!</td>\n",
              "      <td>Sooo SAD</td>\n",
              "      <td>negative</td>\n",
              "    </tr>\n",
              "    <tr>\n",
              "      <th>2</th>\n",
              "      <td>088c60f138</td>\n",
              "      <td>my boss is bullying me...</td>\n",
              "      <td>bullying me</td>\n",
              "      <td>negative</td>\n",
              "    </tr>\n",
              "    <tr>\n",
              "      <th>3</th>\n",
              "      <td>9642c003ef</td>\n",
              "      <td>what interview! leave me alone</td>\n",
              "      <td>leave me alone</td>\n",
              "      <td>negative</td>\n",
              "    </tr>\n",
              "    <tr>\n",
              "      <th>4</th>\n",
              "      <td>358bd9e861</td>\n",
              "      <td>Sons of ****, why couldn`t they put them on t...</td>\n",
              "      <td>Sons of ****,</td>\n",
              "      <td>negative</td>\n",
              "    </tr>\n",
              "  </tbody>\n",
              "</table>\n",
              "</div>"
            ],
            "text/plain": [
              "       textID  ... sentiment\n",
              "0  cb774db0d1  ...   neutral\n",
              "1  549e992a42  ...  negative\n",
              "2  088c60f138  ...  negative\n",
              "3  9642c003ef  ...  negative\n",
              "4  358bd9e861  ...  negative\n",
              "\n",
              "[5 rows x 4 columns]"
            ]
          },
          "metadata": {},
          "execution_count": 5
        }
      ]
    },
    {
      "cell_type": "code",
      "metadata": {
        "colab": {
          "base_uri": "https://localhost:8080/",
          "height": 204
        },
        "id": "e7HCpcW_OBqc",
        "outputId": "5285cc65-6fb7-4344-84a2-22c6bc6f897d"
      },
      "source": [
        "test.head()"
      ],
      "execution_count": null,
      "outputs": [
        {
          "output_type": "execute_result",
          "data": {
            "text/html": [
              "<div>\n",
              "<style scoped>\n",
              "    .dataframe tbody tr th:only-of-type {\n",
              "        vertical-align: middle;\n",
              "    }\n",
              "\n",
              "    .dataframe tbody tr th {\n",
              "        vertical-align: top;\n",
              "    }\n",
              "\n",
              "    .dataframe thead th {\n",
              "        text-align: right;\n",
              "    }\n",
              "</style>\n",
              "<table border=\"1\" class=\"dataframe\">\n",
              "  <thead>\n",
              "    <tr style=\"text-align: right;\">\n",
              "      <th></th>\n",
              "      <th>textID</th>\n",
              "      <th>text</th>\n",
              "      <th>sentiment</th>\n",
              "    </tr>\n",
              "  </thead>\n",
              "  <tbody>\n",
              "    <tr>\n",
              "      <th>0</th>\n",
              "      <td>f87dea47db</td>\n",
              "      <td>Last session of the day  http://twitpic.com/67ezh</td>\n",
              "      <td>neutral</td>\n",
              "    </tr>\n",
              "    <tr>\n",
              "      <th>1</th>\n",
              "      <td>96d74cb729</td>\n",
              "      <td>Shanghai is also really exciting (precisely -...</td>\n",
              "      <td>positive</td>\n",
              "    </tr>\n",
              "    <tr>\n",
              "      <th>2</th>\n",
              "      <td>eee518ae67</td>\n",
              "      <td>Recession hit Veronique Branquinho, she has to...</td>\n",
              "      <td>negative</td>\n",
              "    </tr>\n",
              "    <tr>\n",
              "      <th>3</th>\n",
              "      <td>01082688c6</td>\n",
              "      <td>happy bday!</td>\n",
              "      <td>positive</td>\n",
              "    </tr>\n",
              "    <tr>\n",
              "      <th>4</th>\n",
              "      <td>33987a8ee5</td>\n",
              "      <td>http://twitpic.com/4w75p - I like it!!</td>\n",
              "      <td>positive</td>\n",
              "    </tr>\n",
              "  </tbody>\n",
              "</table>\n",
              "</div>"
            ],
            "text/plain": [
              "       textID                                               text sentiment\n",
              "0  f87dea47db  Last session of the day  http://twitpic.com/67ezh   neutral\n",
              "1  96d74cb729   Shanghai is also really exciting (precisely -...  positive\n",
              "2  eee518ae67  Recession hit Veronique Branquinho, she has to...  negative\n",
              "3  01082688c6                                        happy bday!  positive\n",
              "4  33987a8ee5             http://twitpic.com/4w75p - I like it!!  positive"
            ]
          },
          "metadata": {},
          "execution_count": 6
        }
      ]
    },
    {
      "cell_type": "code",
      "metadata": {
        "colab": {
          "base_uri": "https://localhost:8080/"
        },
        "id": "J8w6QSJEODeg",
        "outputId": "f9a33e15-a53d-4532-a59e-2ca0fc049a80"
      },
      "source": [
        "print(\"train shape :\",train.shape)\n",
        "print(\"test shape :\",test.shape)"
      ],
      "execution_count": null,
      "outputs": [
        {
          "output_type": "stream",
          "name": "stdout",
          "text": [
            "train shape : (27481, 4)\n",
            "test shape : (3534, 3)\n"
          ]
        }
      ]
    },
    {
      "cell_type": "code",
      "metadata": {
        "colab": {
          "base_uri": "https://localhost:8080/"
        },
        "id": "auwdtT0kOFNg",
        "outputId": "1a2257c9-ff09-4397-f70e-5ba87f44503b"
      },
      "source": [
        "train.info()"
      ],
      "execution_count": null,
      "outputs": [
        {
          "output_type": "stream",
          "name": "stdout",
          "text": [
            "<class 'pandas.core.frame.DataFrame'>\n",
            "RangeIndex: 27481 entries, 0 to 27480\n",
            "Data columns (total 4 columns):\n",
            " #   Column         Non-Null Count  Dtype \n",
            "---  ------         --------------  ----- \n",
            " 0   textID         27481 non-null  object\n",
            " 1   text           27480 non-null  object\n",
            " 2   selected_text  27480 non-null  object\n",
            " 3   sentiment      27481 non-null  object\n",
            "dtypes: object(4)\n",
            "memory usage: 858.9+ KB\n"
          ]
        }
      ]
    },
    {
      "cell_type": "code",
      "metadata": {
        "colab": {
          "base_uri": "https://localhost:8080/"
        },
        "id": "qKBN7DT-OG5m",
        "outputId": "22dccbe6-2bcc-4953-d8a2-30349587d8e2"
      },
      "source": [
        "test.info()"
      ],
      "execution_count": null,
      "outputs": [
        {
          "output_type": "stream",
          "name": "stdout",
          "text": [
            "<class 'pandas.core.frame.DataFrame'>\n",
            "RangeIndex: 3534 entries, 0 to 3533\n",
            "Data columns (total 3 columns):\n",
            " #   Column     Non-Null Count  Dtype \n",
            "---  ------     --------------  ----- \n",
            " 0   textID     3534 non-null   object\n",
            " 1   text       3534 non-null   object\n",
            " 2   sentiment  3534 non-null   object\n",
            "dtypes: object(3)\n",
            "memory usage: 83.0+ KB\n"
          ]
        }
      ]
    },
    {
      "cell_type": "code",
      "metadata": {
        "id": "4iciXkpzPGrk"
      },
      "source": [
        "train.dropna(inplace=True)"
      ],
      "execution_count": null,
      "outputs": []
    },
    {
      "cell_type": "code",
      "metadata": {
        "colab": {
          "base_uri": "https://localhost:8080/"
        },
        "id": "DPPRxRguPSkE",
        "outputId": "76395724-bedb-40f1-e9a1-05ffefe2395f"
      },
      "source": [
        "train.shape"
      ],
      "execution_count": null,
      "outputs": [
        {
          "output_type": "execute_result",
          "data": {
            "text/plain": [
              "(27480, 4)"
            ]
          },
          "metadata": {},
          "execution_count": 11
        }
      ]
    },
    {
      "cell_type": "code",
      "metadata": {
        "id": "_PnOmpRhPXrU"
      },
      "source": [
        "#https://www.analyticsvidhya.com/blog/2021/06/text-preprocessing-in-nlp-with-python-codes/\n",
        "train['text']= train['text'].apply(lambda x: x.lower())\n",
        "test['text']= test['text'].apply(lambda x: x.lower())\n",
        "train['selected_text']= train['selected_text'].apply(lambda x: x.lower())\n",
        "\n",
        "#https://stackoverflow.com/questions/11331982/how-to-remove-any-url-within-a-string-in-python\n",
        "def remove_hyperlinks(text):\n",
        "  hyperlinkfree=re.sub('https?://\\S+|www\\.\\S+', '', text)\n",
        "  return hyperlinkfree\n",
        "#storing the puntuation free text\n",
        "train['text']=train['text'].apply(lambda x:remove_hyperlinks(x))\n",
        "test['text']=test['text'].apply(lambda x:remove_hyperlinks(x))\n",
        "train['selected_text']=train['selected_text'].apply(lambda x:remove_hyperlinks(x))\n",
        "\n",
        "#https://stackoverflow.com/questions/12851791/removing-numbers-from-string\n",
        "#https://stackoverflow.com/questions/18082130/python-regex-to-remove-all-words-which-contains-number\n",
        "def remove(text):\n",
        "  text=re.sub('\\S*\\d\\S*',' ',text) #Removing Numbers\n",
        "  text=re.sub('<.*?>+',' ',text)   #Removing Angular Brackets\n",
        "  text=re.sub('\\[.*?\\]',' ',text)  #Removing Square Brackets\n",
        "  text=re.sub('\\n',' ',text)       #Removing '\\n' character \n",
        "  text=re.sub('\\*+','<ABUSE>',text) #Replacing **** by ABUSE word\n",
        "\n",
        "  return text\n",
        "#storing the puntuation free text\n",
        "train['text']=train['text'].apply(lambda x:remove(x))\n",
        "test['text']=test['text'].apply(lambda x:remove(x))\n",
        "train['selected_text']=train['selected_text'].apply(lambda x:remove(x))\n",
        "\n",
        "#https://www.analyticsvidhya.com/blog/2021/06/text-preprocessing-in-nlp-with-python-codes/\n",
        "def remove_punctuation(text):\n",
        "    punctuationfree=\"\".join([i for i in text if i not in string.punctuation])\n",
        "    return punctuationfree\n",
        "#storing the puntuation free text\n",
        "train['text']=train['text'].apply(lambda x:remove_punctuation(x))\n",
        "test['text']=test['text'].apply(lambda x:remove_punctuation(x))\n",
        "train['selected_text']=train['selected_text'].apply(lambda x:remove_punctuation(x))"
      ],
      "execution_count": null,
      "outputs": []
    },
    {
      "cell_type": "code",
      "metadata": {
        "colab": {
          "base_uri": "https://localhost:8080/",
          "height": 204
        },
        "id": "tJXPmMGLVtmV",
        "outputId": "f38aaeee-44ab-4f66-9a40-e8136be53900"
      },
      "source": [
        "train.head()"
      ],
      "execution_count": null,
      "outputs": [
        {
          "output_type": "execute_result",
          "data": {
            "text/html": [
              "<div>\n",
              "<style scoped>\n",
              "    .dataframe tbody tr th:only-of-type {\n",
              "        vertical-align: middle;\n",
              "    }\n",
              "\n",
              "    .dataframe tbody tr th {\n",
              "        vertical-align: top;\n",
              "    }\n",
              "\n",
              "    .dataframe thead th {\n",
              "        text-align: right;\n",
              "    }\n",
              "</style>\n",
              "<table border=\"1\" class=\"dataframe\">\n",
              "  <thead>\n",
              "    <tr style=\"text-align: right;\">\n",
              "      <th></th>\n",
              "      <th>textID</th>\n",
              "      <th>text</th>\n",
              "      <th>selected_text</th>\n",
              "      <th>sentiment</th>\n",
              "    </tr>\n",
              "  </thead>\n",
              "  <tbody>\n",
              "    <tr>\n",
              "      <th>0</th>\n",
              "      <td>cb774db0d1</td>\n",
              "      <td>id have responded if i were going</td>\n",
              "      <td>id have responded if i were going</td>\n",
              "      <td>neutral</td>\n",
              "    </tr>\n",
              "    <tr>\n",
              "      <th>1</th>\n",
              "      <td>549e992a42</td>\n",
              "      <td>sooo sad i will miss you here in san diego</td>\n",
              "      <td>sooo sad</td>\n",
              "      <td>negative</td>\n",
              "    </tr>\n",
              "    <tr>\n",
              "      <th>2</th>\n",
              "      <td>088c60f138</td>\n",
              "      <td>my boss is bullying me</td>\n",
              "      <td>bullying me</td>\n",
              "      <td>negative</td>\n",
              "    </tr>\n",
              "    <tr>\n",
              "      <th>3</th>\n",
              "      <td>9642c003ef</td>\n",
              "      <td>what interview leave me alone</td>\n",
              "      <td>leave me alone</td>\n",
              "      <td>negative</td>\n",
              "    </tr>\n",
              "    <tr>\n",
              "      <th>4</th>\n",
              "      <td>358bd9e861</td>\n",
              "      <td>sons of ABUSE why couldnt they put them on th...</td>\n",
              "      <td>sons of ABUSE</td>\n",
              "      <td>negative</td>\n",
              "    </tr>\n",
              "  </tbody>\n",
              "</table>\n",
              "</div>"
            ],
            "text/plain": [
              "       textID  ... sentiment\n",
              "0  cb774db0d1  ...   neutral\n",
              "1  549e992a42  ...  negative\n",
              "2  088c60f138  ...  negative\n",
              "3  9642c003ef  ...  negative\n",
              "4  358bd9e861  ...  negative\n",
              "\n",
              "[5 rows x 4 columns]"
            ]
          },
          "metadata": {},
          "execution_count": 13
        }
      ]
    },
    {
      "cell_type": "code",
      "metadata": {
        "colab": {
          "base_uri": "https://localhost:8080/",
          "height": 204
        },
        "id": "0mSbR4UEZLSF",
        "outputId": "da05f00f-a5ab-4057-fdb0-26571282d2e9"
      },
      "source": [
        "test.head()"
      ],
      "execution_count": null,
      "outputs": [
        {
          "output_type": "execute_result",
          "data": {
            "text/html": [
              "<div>\n",
              "<style scoped>\n",
              "    .dataframe tbody tr th:only-of-type {\n",
              "        vertical-align: middle;\n",
              "    }\n",
              "\n",
              "    .dataframe tbody tr th {\n",
              "        vertical-align: top;\n",
              "    }\n",
              "\n",
              "    .dataframe thead th {\n",
              "        text-align: right;\n",
              "    }\n",
              "</style>\n",
              "<table border=\"1\" class=\"dataframe\">\n",
              "  <thead>\n",
              "    <tr style=\"text-align: right;\">\n",
              "      <th></th>\n",
              "      <th>textID</th>\n",
              "      <th>text</th>\n",
              "      <th>sentiment</th>\n",
              "    </tr>\n",
              "  </thead>\n",
              "  <tbody>\n",
              "    <tr>\n",
              "      <th>0</th>\n",
              "      <td>f87dea47db</td>\n",
              "      <td>last session of the day</td>\n",
              "      <td>neutral</td>\n",
              "    </tr>\n",
              "    <tr>\n",
              "      <th>1</th>\n",
              "      <td>96d74cb729</td>\n",
              "      <td>shanghai is also really exciting precisely  s...</td>\n",
              "      <td>positive</td>\n",
              "    </tr>\n",
              "    <tr>\n",
              "      <th>2</th>\n",
              "      <td>eee518ae67</td>\n",
              "      <td>recession hit veronique branquinho she has to ...</td>\n",
              "      <td>negative</td>\n",
              "    </tr>\n",
              "    <tr>\n",
              "      <th>3</th>\n",
              "      <td>01082688c6</td>\n",
              "      <td>happy bday</td>\n",
              "      <td>positive</td>\n",
              "    </tr>\n",
              "    <tr>\n",
              "      <th>4</th>\n",
              "      <td>33987a8ee5</td>\n",
              "      <td>i like it</td>\n",
              "      <td>positive</td>\n",
              "    </tr>\n",
              "  </tbody>\n",
              "</table>\n",
              "</div>"
            ],
            "text/plain": [
              "       textID                                               text sentiment\n",
              "0  f87dea47db                          last session of the day     neutral\n",
              "1  96d74cb729   shanghai is also really exciting precisely  s...  positive\n",
              "2  eee518ae67  recession hit veronique branquinho she has to ...  negative\n",
              "3  01082688c6                                         happy bday  positive\n",
              "4  33987a8ee5                                          i like it  positive"
            ]
          },
          "metadata": {},
          "execution_count": 14
        }
      ]
    },
    {
      "cell_type": "code",
      "metadata": {
        "colab": {
          "base_uri": "https://localhost:8080/",
          "height": 111
        },
        "id": "8KEZM13rUQrW",
        "outputId": "8c22e85e-c58d-4aef-d7a0-0c0ded3ec491"
      },
      "source": [
        "train[train[\"text\"]==' ']"
      ],
      "execution_count": null,
      "outputs": [
        {
          "output_type": "execute_result",
          "data": {
            "text/html": [
              "<div>\n",
              "<style scoped>\n",
              "    .dataframe tbody tr th:only-of-type {\n",
              "        vertical-align: middle;\n",
              "    }\n",
              "\n",
              "    .dataframe tbody tr th {\n",
              "        vertical-align: top;\n",
              "    }\n",
              "\n",
              "    .dataframe thead th {\n",
              "        text-align: right;\n",
              "    }\n",
              "</style>\n",
              "<table border=\"1\" class=\"dataframe\">\n",
              "  <thead>\n",
              "    <tr style=\"text-align: right;\">\n",
              "      <th></th>\n",
              "      <th>textID</th>\n",
              "      <th>text</th>\n",
              "      <th>selected_text</th>\n",
              "      <th>sentiment</th>\n",
              "    </tr>\n",
              "  </thead>\n",
              "  <tbody>\n",
              "    <tr>\n",
              "      <th>1319</th>\n",
              "      <td>bc84f21e3b</td>\n",
              "      <td></td>\n",
              "      <td>shoesshoesshoesyayyayyayloli</td>\n",
              "      <td>positive</td>\n",
              "    </tr>\n",
              "    <tr>\n",
              "      <th>24926</th>\n",
              "      <td>0872ed0f00</td>\n",
              "      <td></td>\n",
              "      <td></td>\n",
              "      <td>neutral</td>\n",
              "    </tr>\n",
              "  </tbody>\n",
              "</table>\n",
              "</div>"
            ],
            "text/plain": [
              "           textID text                 selected_text sentiment\n",
              "1319   bc84f21e3b       shoesshoesshoesyayyayyayloli  positive\n",
              "24926  0872ed0f00                                      neutral"
            ]
          },
          "metadata": {},
          "execution_count": 15
        }
      ]
    },
    {
      "cell_type": "code",
      "metadata": {
        "colab": {
          "base_uri": "https://localhost:8080/",
          "height": 235
        },
        "id": "-U6XXdAZUv6E",
        "outputId": "c3b316d6-03ba-4081-e903-3d1f1d0e520e"
      },
      "source": [
        "train[train[\"selected_text\"]==' ']"
      ],
      "execution_count": null,
      "outputs": [
        {
          "output_type": "execute_result",
          "data": {
            "text/html": [
              "<div>\n",
              "<style scoped>\n",
              "    .dataframe tbody tr th:only-of-type {\n",
              "        vertical-align: middle;\n",
              "    }\n",
              "\n",
              "    .dataframe tbody tr th {\n",
              "        vertical-align: top;\n",
              "    }\n",
              "\n",
              "    .dataframe thead th {\n",
              "        text-align: right;\n",
              "    }\n",
              "</style>\n",
              "<table border=\"1\" class=\"dataframe\">\n",
              "  <thead>\n",
              "    <tr style=\"text-align: right;\">\n",
              "      <th></th>\n",
              "      <th>textID</th>\n",
              "      <th>text</th>\n",
              "      <th>selected_text</th>\n",
              "      <th>sentiment</th>\n",
              "    </tr>\n",
              "  </thead>\n",
              "  <tbody>\n",
              "    <tr>\n",
              "      <th>9533</th>\n",
              "      <td>c6149b7abf</td>\n",
              "      <td>its castiel</td>\n",
              "      <td></td>\n",
              "      <td>positive</td>\n",
              "    </tr>\n",
              "    <tr>\n",
              "      <th>10997</th>\n",
              "      <td>6d85945e2c</td>\n",
              "      <td>hussein i have to wake up earlier than i thou...</td>\n",
              "      <td></td>\n",
              "      <td>negative</td>\n",
              "    </tr>\n",
              "    <tr>\n",
              "      <th>13728</th>\n",
              "      <td>c7b78c1b26</td>\n",
              "      <td>btw    and  i ordered some of yer merch yester...</td>\n",
              "      <td></td>\n",
              "      <td>positive</td>\n",
              "    </tr>\n",
              "    <tr>\n",
              "      <th>24348</th>\n",
              "      <td>a21d9c38a8</td>\n",
              "      <td>ill keep working on her    lol good idea</td>\n",
              "      <td></td>\n",
              "      <td>positive</td>\n",
              "    </tr>\n",
              "    <tr>\n",
              "      <th>25455</th>\n",
              "      <td>b6bf74a5c8</td>\n",
              "      <td>europe sounds   will finish my exam on teus a...</td>\n",
              "      <td></td>\n",
              "      <td>positive</td>\n",
              "    </tr>\n",
              "    <tr>\n",
              "      <th>25637</th>\n",
              "      <td>370880f242</td>\n",
              "      <td>its realy   my book is on the side  im not stu...</td>\n",
              "      <td></td>\n",
              "      <td>negative</td>\n",
              "    </tr>\n",
              "  </tbody>\n",
              "</table>\n",
              "</div>"
            ],
            "text/plain": [
              "           textID  ... sentiment\n",
              "9533   c6149b7abf  ...  positive\n",
              "10997  6d85945e2c  ...  negative\n",
              "13728  c7b78c1b26  ...  positive\n",
              "24348  a21d9c38a8  ...  positive\n",
              "25455  b6bf74a5c8  ...  positive\n",
              "25637  370880f242  ...  negative\n",
              "\n",
              "[6 rows x 4 columns]"
            ]
          },
          "metadata": {},
          "execution_count": 16
        }
      ]
    },
    {
      "cell_type": "code",
      "metadata": {
        "colab": {
          "base_uri": "https://localhost:8080/",
          "height": 49
        },
        "id": "cT9W53H8U7ln",
        "outputId": "4f270cb8-761e-4c86-e4f0-d7e80fdd20ac"
      },
      "source": [
        "test[test[\"text\"]==' ']"
      ],
      "execution_count": null,
      "outputs": [
        {
          "output_type": "execute_result",
          "data": {
            "text/html": [
              "<div>\n",
              "<style scoped>\n",
              "    .dataframe tbody tr th:only-of-type {\n",
              "        vertical-align: middle;\n",
              "    }\n",
              "\n",
              "    .dataframe tbody tr th {\n",
              "        vertical-align: top;\n",
              "    }\n",
              "\n",
              "    .dataframe thead th {\n",
              "        text-align: right;\n",
              "    }\n",
              "</style>\n",
              "<table border=\"1\" class=\"dataframe\">\n",
              "  <thead>\n",
              "    <tr style=\"text-align: right;\">\n",
              "      <th></th>\n",
              "      <th>textID</th>\n",
              "      <th>text</th>\n",
              "      <th>sentiment</th>\n",
              "    </tr>\n",
              "  </thead>\n",
              "  <tbody>\n",
              "  </tbody>\n",
              "</table>\n",
              "</div>"
            ],
            "text/plain": [
              "Empty DataFrame\n",
              "Columns: [textID, text, sentiment]\n",
              "Index: []"
            ]
          },
          "metadata": {},
          "execution_count": 17
        }
      ]
    },
    {
      "cell_type": "code",
      "metadata": {
        "id": "RTNN8krGVok8"
      },
      "source": [
        " train.drop(train[train[\"text\"]==' '].index,inplace=True)"
      ],
      "execution_count": null,
      "outputs": []
    },
    {
      "cell_type": "code",
      "metadata": {
        "id": "ayRU3NObnD_d"
      },
      "source": [
        " train.drop(train[train[\"selected_text\"]==' '].index,inplace=True)"
      ],
      "execution_count": null,
      "outputs": []
    },
    {
      "cell_type": "code",
      "metadata": {
        "colab": {
          "base_uri": "https://localhost:8080/",
          "height": 204
        },
        "id": "kIPBqglcuRMP",
        "outputId": "be48bba9-75ef-42b2-f74e-846ffe457e75"
      },
      "source": [
        "train.head()"
      ],
      "execution_count": null,
      "outputs": [
        {
          "output_type": "execute_result",
          "data": {
            "text/html": [
              "<div>\n",
              "<style scoped>\n",
              "    .dataframe tbody tr th:only-of-type {\n",
              "        vertical-align: middle;\n",
              "    }\n",
              "\n",
              "    .dataframe tbody tr th {\n",
              "        vertical-align: top;\n",
              "    }\n",
              "\n",
              "    .dataframe thead th {\n",
              "        text-align: right;\n",
              "    }\n",
              "</style>\n",
              "<table border=\"1\" class=\"dataframe\">\n",
              "  <thead>\n",
              "    <tr style=\"text-align: right;\">\n",
              "      <th></th>\n",
              "      <th>textID</th>\n",
              "      <th>text</th>\n",
              "      <th>selected_text</th>\n",
              "      <th>sentiment</th>\n",
              "    </tr>\n",
              "  </thead>\n",
              "  <tbody>\n",
              "    <tr>\n",
              "      <th>0</th>\n",
              "      <td>cb774db0d1</td>\n",
              "      <td>id have responded if i were going</td>\n",
              "      <td>id have responded if i were going</td>\n",
              "      <td>neutral</td>\n",
              "    </tr>\n",
              "    <tr>\n",
              "      <th>1</th>\n",
              "      <td>549e992a42</td>\n",
              "      <td>sooo sad i will miss you here in san diego</td>\n",
              "      <td>sooo sad</td>\n",
              "      <td>negative</td>\n",
              "    </tr>\n",
              "    <tr>\n",
              "      <th>2</th>\n",
              "      <td>088c60f138</td>\n",
              "      <td>my boss is bullying me</td>\n",
              "      <td>bullying me</td>\n",
              "      <td>negative</td>\n",
              "    </tr>\n",
              "    <tr>\n",
              "      <th>3</th>\n",
              "      <td>9642c003ef</td>\n",
              "      <td>what interview leave me alone</td>\n",
              "      <td>leave me alone</td>\n",
              "      <td>negative</td>\n",
              "    </tr>\n",
              "    <tr>\n",
              "      <th>4</th>\n",
              "      <td>358bd9e861</td>\n",
              "      <td>sons of ABUSE why couldnt they put them on th...</td>\n",
              "      <td>sons of ABUSE</td>\n",
              "      <td>negative</td>\n",
              "    </tr>\n",
              "  </tbody>\n",
              "</table>\n",
              "</div>"
            ],
            "text/plain": [
              "       textID  ... sentiment\n",
              "0  cb774db0d1  ...   neutral\n",
              "1  549e992a42  ...  negative\n",
              "2  088c60f138  ...  negative\n",
              "3  9642c003ef  ...  negative\n",
              "4  358bd9e861  ...  negative\n",
              "\n",
              "[5 rows x 4 columns]"
            ]
          },
          "metadata": {},
          "execution_count": 20
        }
      ]
    },
    {
      "cell_type": "code",
      "metadata": {
        "id": "Z-5BoKSnaU4V"
      },
      "source": [
        "def wrong_words(text,selected):\n",
        "  words=[]\n",
        "  text=text.split()\n",
        "  selected=selected.split()\n",
        "  for i in selected:\n",
        "    if i not in text:\n",
        "      words.append(i)\n",
        "  if len(words)>0:\n",
        "    return \" \".join(words)\n",
        "  else:\n",
        "    return '++++'"
      ],
      "execution_count": null,
      "outputs": []
    },
    {
      "cell_type": "code",
      "metadata": {
        "id": "2QWUsV8NaCCh"
      },
      "source": [
        "train['spelling']=train.apply(lambda x: wrong_words(x.text,x.selected_text),axis=1)"
      ],
      "execution_count": null,
      "outputs": []
    },
    {
      "cell_type": "code",
      "metadata": {
        "colab": {
          "base_uri": "https://localhost:8080/",
          "height": 419
        },
        "id": "NI8sFj7TfATd",
        "outputId": "2c3c3705-49a5-4bd2-f6e0-2611a752b7a8"
      },
      "source": [
        "train[train['spelling'].apply(lambda x: len(x))==1]"
      ],
      "execution_count": null,
      "outputs": [
        {
          "output_type": "execute_result",
          "data": {
            "text/html": [
              "<div>\n",
              "<style scoped>\n",
              "    .dataframe tbody tr th:only-of-type {\n",
              "        vertical-align: middle;\n",
              "    }\n",
              "\n",
              "    .dataframe tbody tr th {\n",
              "        vertical-align: top;\n",
              "    }\n",
              "\n",
              "    .dataframe thead th {\n",
              "        text-align: right;\n",
              "    }\n",
              "</style>\n",
              "<table border=\"1\" class=\"dataframe\">\n",
              "  <thead>\n",
              "    <tr style=\"text-align: right;\">\n",
              "      <th></th>\n",
              "      <th>textID</th>\n",
              "      <th>text</th>\n",
              "      <th>selected_text</th>\n",
              "      <th>sentiment</th>\n",
              "      <th>spelling</th>\n",
              "    </tr>\n",
              "  </thead>\n",
              "  <tbody>\n",
              "    <tr>\n",
              "      <th>49</th>\n",
              "      <td>3fcea4debc</td>\n",
              "      <td>which case i got a new one last week and im n...</td>\n",
              "      <td>d im not thrilled at all with mine</td>\n",
              "      <td>negative</td>\n",
              "      <td>d</td>\n",
              "    </tr>\n",
              "    <tr>\n",
              "      <th>66</th>\n",
              "      <td>95e12b1cb1</td>\n",
              "      <td>hes awesome have you worked with him before ...</td>\n",
              "      <td>s awesome</td>\n",
              "      <td>positive</td>\n",
              "      <td>s</td>\n",
              "    </tr>\n",
              "    <tr>\n",
              "      <th>129</th>\n",
              "      <td>94f67cfa6d</td>\n",
              "      <td>hey mia  totally adore your music  when will ...</td>\n",
              "      <td>y adore</td>\n",
              "      <td>positive</td>\n",
              "      <td>y</td>\n",
              "    </tr>\n",
              "    <tr>\n",
              "      <th>134</th>\n",
              "      <td>6903cb08f2</td>\n",
              "      <td>nice to see you tweeting  its sunday   may an...</td>\n",
              "      <td>e nice</td>\n",
              "      <td>positive</td>\n",
              "      <td>e</td>\n",
              "    </tr>\n",
              "    <tr>\n",
              "      <th>166</th>\n",
              "      <td>c78bf59e67</td>\n",
              "      <td>lichfield tweetup sounds like fun  hope to s...</td>\n",
              "      <td>p sounds like fun</td>\n",
              "      <td>positive</td>\n",
              "      <td>p</td>\n",
              "    </tr>\n",
              "    <tr>\n",
              "      <th>...</th>\n",
              "      <td>...</td>\n",
              "      <td>...</td>\n",
              "      <td>...</td>\n",
              "      <td>...</td>\n",
              "      <td>...</td>\n",
              "    </tr>\n",
              "    <tr>\n",
              "      <th>27153</th>\n",
              "      <td>a044ed928d</td>\n",
              "      <td>enjoy nola definitely one of my favorite citi...</td>\n",
              "      <td>y one of my favorite cities in the world</td>\n",
              "      <td>positive</td>\n",
              "      <td>y</td>\n",
              "    </tr>\n",
              "    <tr>\n",
              "      <th>27240</th>\n",
              "      <td>40143b692e</td>\n",
              "      <td>who knows  it makes me sad  lol</td>\n",
              "      <td>e sad</td>\n",
              "      <td>negative</td>\n",
              "      <td>e</td>\n",
              "    </tr>\n",
              "    <tr>\n",
              "      <th>27426</th>\n",
              "      <td>132e051fe8</td>\n",
              "      <td>my cousins moved there like   years ago and ...</td>\n",
              "      <td>m sad</td>\n",
              "      <td>negative</td>\n",
              "      <td>m</td>\n",
              "    </tr>\n",
              "    <tr>\n",
              "      <th>27470</th>\n",
              "      <td>778184dff1</td>\n",
              "      <td>lol i know  and hahadid you fall asleep or ju...</td>\n",
              "      <td>t bored</td>\n",
              "      <td>negative</td>\n",
              "      <td>t</td>\n",
              "    </tr>\n",
              "    <tr>\n",
              "      <th>27476</th>\n",
              "      <td>4eac33d1c0</td>\n",
              "      <td>wish we could come see u on denver  husband l...</td>\n",
              "      <td>d lost</td>\n",
              "      <td>negative</td>\n",
              "      <td>d</td>\n",
              "    </tr>\n",
              "  </tbody>\n",
              "</table>\n",
              "<p>680 rows × 5 columns</p>\n",
              "</div>"
            ],
            "text/plain": [
              "           textID  ... spelling\n",
              "49     3fcea4debc  ...        d\n",
              "66     95e12b1cb1  ...        s\n",
              "129    94f67cfa6d  ...        y\n",
              "134    6903cb08f2  ...        e\n",
              "166    c78bf59e67  ...        p\n",
              "...           ...  ...      ...\n",
              "27153  a044ed928d  ...        y\n",
              "27240  40143b692e  ...        e\n",
              "27426  132e051fe8  ...        m\n",
              "27470  778184dff1  ...        t\n",
              "27476  4eac33d1c0  ...        d\n",
              "\n",
              "[680 rows x 5 columns]"
            ]
          },
          "metadata": {},
          "execution_count": 23
        }
      ]
    },
    {
      "cell_type": "code",
      "metadata": {
        "id": "8aLXV_EztEXt"
      },
      "source": [
        "def remove_text(x):\n",
        "  selected=x[0]\n",
        "  spelling=x[1]\n",
        "  selected=selected.split()\n",
        "  selected.remove(spelling) #https://www.geeksforgeeks.org/python-list-remove/\n",
        "  return \" \".join(selected)"
      ],
      "execution_count": null,
      "outputs": []
    },
    {
      "cell_type": "code",
      "metadata": {
        "id": "nbspoM8rr02n"
      },
      "source": [
        "train['selected_text']=train[['selected_text','spelling']].apply(lambda x: remove_text(x) if len(x['spelling'])==1  else x['selected_text'],axis=1)"
      ],
      "execution_count": null,
      "outputs": []
    },
    {
      "cell_type": "code",
      "metadata": {
        "id": "irI9_ctTu24q"
      },
      "source": [
        "train['spelling']=train.apply(lambda x: wrong_words(x.text,x.selected_text),axis=1)"
      ],
      "execution_count": null,
      "outputs": []
    },
    {
      "cell_type": "code",
      "metadata": {
        "colab": {
          "base_uri": "https://localhost:8080/",
          "height": 49
        },
        "id": "CWq4wDjPt0QI",
        "outputId": "42a688b5-d7e4-4117-d730-afdc6af867d4"
      },
      "source": [
        "train[train['spelling'].apply(lambda x: len(x))==1]"
      ],
      "execution_count": null,
      "outputs": [
        {
          "output_type": "execute_result",
          "data": {
            "text/html": [
              "<div>\n",
              "<style scoped>\n",
              "    .dataframe tbody tr th:only-of-type {\n",
              "        vertical-align: middle;\n",
              "    }\n",
              "\n",
              "    .dataframe tbody tr th {\n",
              "        vertical-align: top;\n",
              "    }\n",
              "\n",
              "    .dataframe thead th {\n",
              "        text-align: right;\n",
              "    }\n",
              "</style>\n",
              "<table border=\"1\" class=\"dataframe\">\n",
              "  <thead>\n",
              "    <tr style=\"text-align: right;\">\n",
              "      <th></th>\n",
              "      <th>textID</th>\n",
              "      <th>text</th>\n",
              "      <th>selected_text</th>\n",
              "      <th>sentiment</th>\n",
              "      <th>spelling</th>\n",
              "    </tr>\n",
              "  </thead>\n",
              "  <tbody>\n",
              "  </tbody>\n",
              "</table>\n",
              "</div>"
            ],
            "text/plain": [
              "Empty DataFrame\n",
              "Columns: [textID, text, selected_text, sentiment, spelling]\n",
              "Index: []"
            ]
          },
          "metadata": {},
          "execution_count": 27
        }
      ]
    },
    {
      "cell_type": "code",
      "metadata": {
        "colab": {
          "base_uri": "https://localhost:8080/",
          "height": 419
        },
        "id": "0K8ZGLQKbbrx",
        "outputId": "9e83d9aa-c971-45ff-a018-f06a1f74fe58"
      },
      "source": [
        "train.loc[(train['spelling']!='++++') & (train['sentiment']=='neutral')]"
      ],
      "execution_count": null,
      "outputs": [
        {
          "output_type": "execute_result",
          "data": {
            "text/html": [
              "<div>\n",
              "<style scoped>\n",
              "    .dataframe tbody tr th:only-of-type {\n",
              "        vertical-align: middle;\n",
              "    }\n",
              "\n",
              "    .dataframe tbody tr th {\n",
              "        vertical-align: top;\n",
              "    }\n",
              "\n",
              "    .dataframe thead th {\n",
              "        text-align: right;\n",
              "    }\n",
              "</style>\n",
              "<table border=\"1\" class=\"dataframe\">\n",
              "  <thead>\n",
              "    <tr style=\"text-align: right;\">\n",
              "      <th></th>\n",
              "      <th>textID</th>\n",
              "      <th>text</th>\n",
              "      <th>selected_text</th>\n",
              "      <th>sentiment</th>\n",
              "      <th>spelling</th>\n",
              "    </tr>\n",
              "  </thead>\n",
              "  <tbody>\n",
              "    <tr>\n",
              "      <th>92</th>\n",
              "      <td>a3de81e1ba</td>\n",
              "      <td>hi  how are you doing   ABUSEjust joined twit...</td>\n",
              "      <td>hi  how are you doing   ABUSEjust joined twitter</td>\n",
              "      <td>neutral</td>\n",
              "      <td>twitter</td>\n",
              "    </tr>\n",
              "    <tr>\n",
              "      <th>251</th>\n",
              "      <td>77ba0fee75</td>\n",
              "      <td>powerblog what is this powerblog challenge y...</td>\n",
              "      <td>g what is this powerblog challenge you keep ta...</td>\n",
              "      <td>neutral</td>\n",
              "      <td>g followe</td>\n",
              "    </tr>\n",
              "    <tr>\n",
              "      <th>366</th>\n",
              "      <td>b751f39570</td>\n",
              "      <td>yea i should know but tell me everything  ps ...</td>\n",
              "      <td>yea i should know but tell me everything  ps s...</td>\n",
              "      <td>neutral</td>\n",
              "      <td>ha</td>\n",
              "    </tr>\n",
              "    <tr>\n",
              "      <th>581</th>\n",
              "      <td>1fce3e2d7b</td>\n",
              "      <td>no bueno  hollykins needs to feel better asap...</td>\n",
              "      <td>no bueno  hollykins needs to feel better asap ...</td>\n",
              "      <td>neutral</td>\n",
              "      <td>soproudofyo</td>\n",
              "    </tr>\n",
              "    <tr>\n",
              "      <th>637</th>\n",
              "      <td>b04bbb81c9</td>\n",
              "      <td>hi to one kiwi artist from another kiwi artist</td>\n",
              "      <td>hi to one kiwi artist from another kiwi artis</td>\n",
              "      <td>neutral</td>\n",
              "      <td>artis</td>\n",
              "    </tr>\n",
              "    <tr>\n",
              "      <th>...</th>\n",
              "      <td>...</td>\n",
              "      <td>...</td>\n",
              "      <td>...</td>\n",
              "      <td>...</td>\n",
              "      <td>...</td>\n",
              "    </tr>\n",
              "    <tr>\n",
              "      <th>26870</th>\n",
              "      <td>ff77427519</td>\n",
              "      <td>will do it  in a  couple od days  when i have ...</td>\n",
              "      <td>will do it  in a  couple od days  when i have ...</td>\n",
              "      <td>neutral</td>\n",
              "      <td>pe</td>\n",
              "    </tr>\n",
              "    <tr>\n",
              "      <th>26882</th>\n",
              "      <td>336b9cfc93</td>\n",
              "      <td>xdxdxd you crazy little thing why didnï¿½t ...</td>\n",
              "      <td>dxd you crazy little thing why didnï¿½t you ge...</td>\n",
              "      <td>neutral</td>\n",
              "      <td>dxd</td>\n",
              "    </tr>\n",
              "    <tr>\n",
              "      <th>27067</th>\n",
              "      <td>c2dfc5875c</td>\n",
              "      <td>jamie  sean cody up for some angry ABUSE jamie...</td>\n",
              "      <td>amie  sean cody up for some angry ABUSE jamie ...</td>\n",
              "      <td>neutral</td>\n",
              "      <td>amie</td>\n",
              "    </tr>\n",
              "    <tr>\n",
              "      <th>27111</th>\n",
              "      <td>44cf670176</td>\n",
              "      <td>haha itll be gross by the time it comes back ...</td>\n",
              "      <td>haha itll be gross by the time it comes back  ...</td>\n",
              "      <td>neutral</td>\n",
              "      <td>india</td>\n",
              "    </tr>\n",
              "    <tr>\n",
              "      <th>27349</th>\n",
              "      <td>f60f20ed09</td>\n",
              "      <td>yea but thats an old pic  she looks a lot dif...</td>\n",
              "      <td>yea but thats an old pic  she looks a lot diff...</td>\n",
              "      <td>neutral</td>\n",
              "      <td>lo</td>\n",
              "    </tr>\n",
              "  </tbody>\n",
              "</table>\n",
              "<p>149 rows × 5 columns</p>\n",
              "</div>"
            ],
            "text/plain": [
              "           textID  ...     spelling\n",
              "92     a3de81e1ba  ...      twitter\n",
              "251    77ba0fee75  ...    g followe\n",
              "366    b751f39570  ...           ha\n",
              "581    1fce3e2d7b  ...  soproudofyo\n",
              "637    b04bbb81c9  ...        artis\n",
              "...           ...  ...          ...\n",
              "26870  ff77427519  ...           pe\n",
              "26882  336b9cfc93  ...          dxd\n",
              "27067  c2dfc5875c  ...         amie\n",
              "27111  44cf670176  ...        india\n",
              "27349  f60f20ed09  ...           lo\n",
              "\n",
              "[149 rows x 5 columns]"
            ]
          },
          "metadata": {},
          "execution_count": 28
        }
      ]
    },
    {
      "cell_type": "code",
      "metadata": {
        "id": "BtWbFzDQvl4W"
      },
      "source": [
        "train['selected_text']=train.apply(lambda x: x['text']\n",
        "                            if ( (x['spelling']!='++++') & (x['sentiment']=='neutral') ) else x['selected_text'],axis=1)"
      ],
      "execution_count": null,
      "outputs": []
    },
    {
      "cell_type": "code",
      "metadata": {
        "id": "3759iHYCv-87"
      },
      "source": [
        "train['spelling']=train.apply(lambda x: wrong_words(x.text,x.selected_text),axis=1)"
      ],
      "execution_count": null,
      "outputs": []
    },
    {
      "cell_type": "code",
      "metadata": {
        "colab": {
          "base_uri": "https://localhost:8080/",
          "height": 49
        },
        "id": "dZ69RrKXv3dD",
        "outputId": "24e3783c-73a9-4c0b-d6c2-7dc4af41163e"
      },
      "source": [
        "train.loc[(train['spelling']!='++++') & (train['sentiment']=='neutral')].head()"
      ],
      "execution_count": null,
      "outputs": [
        {
          "output_type": "execute_result",
          "data": {
            "text/html": [
              "<div>\n",
              "<style scoped>\n",
              "    .dataframe tbody tr th:only-of-type {\n",
              "        vertical-align: middle;\n",
              "    }\n",
              "\n",
              "    .dataframe tbody tr th {\n",
              "        vertical-align: top;\n",
              "    }\n",
              "\n",
              "    .dataframe thead th {\n",
              "        text-align: right;\n",
              "    }\n",
              "</style>\n",
              "<table border=\"1\" class=\"dataframe\">\n",
              "  <thead>\n",
              "    <tr style=\"text-align: right;\">\n",
              "      <th></th>\n",
              "      <th>textID</th>\n",
              "      <th>text</th>\n",
              "      <th>selected_text</th>\n",
              "      <th>sentiment</th>\n",
              "      <th>spelling</th>\n",
              "    </tr>\n",
              "  </thead>\n",
              "  <tbody>\n",
              "  </tbody>\n",
              "</table>\n",
              "</div>"
            ],
            "text/plain": [
              "Empty DataFrame\n",
              "Columns: [textID, text, selected_text, sentiment, spelling]\n",
              "Index: []"
            ]
          },
          "metadata": {},
          "execution_count": 31
        }
      ]
    },
    {
      "cell_type": "code",
      "metadata": {
        "colab": {
          "base_uri": "https://localhost:8080/",
          "height": 419
        },
        "id": "UB12In0Sb5Wo",
        "outputId": "01d12cf7-2ed6-42ca-d3d4-e9262ad0eacb"
      },
      "source": [
        "train.loc[(train['spelling']!='++++') & (train['sentiment']=='positive')]"
      ],
      "execution_count": null,
      "outputs": [
        {
          "output_type": "execute_result",
          "data": {
            "text/html": [
              "<div>\n",
              "<style scoped>\n",
              "    .dataframe tbody tr th:only-of-type {\n",
              "        vertical-align: middle;\n",
              "    }\n",
              "\n",
              "    .dataframe tbody tr th {\n",
              "        vertical-align: top;\n",
              "    }\n",
              "\n",
              "    .dataframe thead th {\n",
              "        text-align: right;\n",
              "    }\n",
              "</style>\n",
              "<table border=\"1\" class=\"dataframe\">\n",
              "  <thead>\n",
              "    <tr style=\"text-align: right;\">\n",
              "      <th></th>\n",
              "      <th>textID</th>\n",
              "      <th>text</th>\n",
              "      <th>selected_text</th>\n",
              "      <th>sentiment</th>\n",
              "      <th>spelling</th>\n",
              "    </tr>\n",
              "  </thead>\n",
              "  <tbody>\n",
              "    <tr>\n",
              "      <th>39</th>\n",
              "      <td>2863f435bd</td>\n",
              "      <td>a little happy for the wine jeje ok itsm my fr...</td>\n",
              "      <td>a little happy fo</td>\n",
              "      <td>positive</td>\n",
              "      <td>fo</td>\n",
              "    </tr>\n",
              "    <tr>\n",
              "      <th>149</th>\n",
              "      <td>11c10e3fc5</td>\n",
              "      <td>shes unassuming and unpretentious shes just a...</td>\n",
              "      <td>endearing</td>\n",
              "      <td>positive</td>\n",
              "      <td>endearing</td>\n",
              "    </tr>\n",
              "    <tr>\n",
              "      <th>168</th>\n",
              "      <td>e56eeb4968</td>\n",
              "      <td>few bevvies   in twngreat on a day off</td>\n",
              "      <td>great</td>\n",
              "      <td>positive</td>\n",
              "      <td>great</td>\n",
              "    </tr>\n",
              "    <tr>\n",
              "      <th>240</th>\n",
              "      <td>7df7221145</td>\n",
              "      <td>thats why i need to be thereto represent the...</td>\n",
              "      <td>thats why i need to be there</td>\n",
              "      <td>positive</td>\n",
              "      <td>there</td>\n",
              "    </tr>\n",
              "    <tr>\n",
              "      <th>309</th>\n",
              "      <td>a54d3c2825</td>\n",
              "      <td>i know   it was worth a shot though</td>\n",
              "      <td>as wort</td>\n",
              "      <td>positive</td>\n",
              "      <td>as wort</td>\n",
              "    </tr>\n",
              "    <tr>\n",
              "      <th>...</th>\n",
              "      <td>...</td>\n",
              "      <td>...</td>\n",
              "      <td>...</td>\n",
              "      <td>...</td>\n",
              "      <td>...</td>\n",
              "    </tr>\n",
              "    <tr>\n",
              "      <th>27339</th>\n",
              "      <td>27829d441f</td>\n",
              "      <td>just got out of the pool   so funnow gonna wat...</td>\n",
              "      <td>so fun</td>\n",
              "      <td>positive</td>\n",
              "      <td>fun</td>\n",
              "    </tr>\n",
              "    <tr>\n",
              "      <th>27376</th>\n",
              "      <td>13fbc75291</td>\n",
              "      <td>going to church in the morninghappy mommas day...</td>\n",
              "      <td>happy</td>\n",
              "      <td>positive</td>\n",
              "      <td>happy</td>\n",
              "    </tr>\n",
              "    <tr>\n",
              "      <th>27386</th>\n",
              "      <td>e149ebd3a1</td>\n",
              "      <td>would one of the vwllers want to add this ev...</td>\n",
              "      <td>ch appreciat</td>\n",
              "      <td>positive</td>\n",
              "      <td>ch appreciat</td>\n",
              "    </tr>\n",
              "    <tr>\n",
              "      <th>27401</th>\n",
              "      <td>261e064dd4</td>\n",
              "      <td>oh silence verona  i am wanting to go   jaja ...</td>\n",
              "      <td>ja enjoyyitverymu</td>\n",
              "      <td>positive</td>\n",
              "      <td>ja enjoyyitverymu</td>\n",
              "    </tr>\n",
              "    <tr>\n",
              "      <th>27474</th>\n",
              "      <td>8f14bb2715</td>\n",
              "      <td>so i get up early and i feel good about the da...</td>\n",
              "      <td>i feel good ab</td>\n",
              "      <td>positive</td>\n",
              "      <td>ab</td>\n",
              "    </tr>\n",
              "  </tbody>\n",
              "</table>\n",
              "<p>547 rows × 5 columns</p>\n",
              "</div>"
            ],
            "text/plain": [
              "           textID  ...           spelling\n",
              "39     2863f435bd  ...                 fo\n",
              "149    11c10e3fc5  ...          endearing\n",
              "168    e56eeb4968  ...              great\n",
              "240    7df7221145  ...              there\n",
              "309    a54d3c2825  ...            as wort\n",
              "...           ...  ...                ...\n",
              "27339  27829d441f  ...                fun\n",
              "27376  13fbc75291  ...              happy\n",
              "27386  e149ebd3a1  ...       ch appreciat\n",
              "27401  261e064dd4  ...  ja enjoyyitverymu\n",
              "27474  8f14bb2715  ...                 ab\n",
              "\n",
              "[547 rows x 5 columns]"
            ]
          },
          "metadata": {},
          "execution_count": 32
        }
      ]
    },
    {
      "cell_type": "code",
      "metadata": {
        "colab": {
          "base_uri": "https://localhost:8080/",
          "height": 419
        },
        "id": "9hO5R0F9WoFF",
        "outputId": "e0b2272a-4310-4179-f4b5-b1d1cbc93be3"
      },
      "source": [
        "train.loc[(train['spelling']!='++++') & (train['sentiment']=='negative')]"
      ],
      "execution_count": null,
      "outputs": [
        {
          "output_type": "execute_result",
          "data": {
            "text/html": [
              "<div>\n",
              "<style scoped>\n",
              "    .dataframe tbody tr th:only-of-type {\n",
              "        vertical-align: middle;\n",
              "    }\n",
              "\n",
              "    .dataframe tbody tr th {\n",
              "        vertical-align: top;\n",
              "    }\n",
              "\n",
              "    .dataframe thead th {\n",
              "        text-align: right;\n",
              "    }\n",
              "</style>\n",
              "<table border=\"1\" class=\"dataframe\">\n",
              "  <thead>\n",
              "    <tr style=\"text-align: right;\">\n",
              "      <th></th>\n",
              "      <th>textID</th>\n",
              "      <th>text</th>\n",
              "      <th>selected_text</th>\n",
              "      <th>sentiment</th>\n",
              "      <th>spelling</th>\n",
              "    </tr>\n",
              "  </thead>\n",
              "  <tbody>\n",
              "    <tr>\n",
              "      <th>18</th>\n",
              "      <td>af3fed7fc3</td>\n",
              "      <td>is back home now      gonna miss every one</td>\n",
              "      <td>onna</td>\n",
              "      <td>negative</td>\n",
              "      <td>onna</td>\n",
              "    </tr>\n",
              "    <tr>\n",
              "      <th>27</th>\n",
              "      <td>bdc32ea43c</td>\n",
              "      <td>on the way to malaysiano internet access to twit</td>\n",
              "      <td>no internet</td>\n",
              "      <td>negative</td>\n",
              "      <td>no</td>\n",
              "    </tr>\n",
              "    <tr>\n",
              "      <th>32</th>\n",
              "      <td>1c31703aef</td>\n",
              "      <td>if it is any consolation i got my bmi tested ...</td>\n",
              "      <td>well so much for being unhappy for about   minute</td>\n",
              "      <td>negative</td>\n",
              "      <td>minute</td>\n",
              "    </tr>\n",
              "    <tr>\n",
              "      <th>48</th>\n",
              "      <td>3d9d4b0b55</td>\n",
              "      <td>i donbt like to peel prawns i also dont like g...</td>\n",
              "      <td>dont like go</td>\n",
              "      <td>negative</td>\n",
              "      <td>go</td>\n",
              "    </tr>\n",
              "    <tr>\n",
              "      <th>60</th>\n",
              "      <td>52483f7da8</td>\n",
              "      <td>i lost all my friends im alone and sleepyi wan...</td>\n",
              "      <td>i lost all my friends im alone and sleepy</td>\n",
              "      <td>negative</td>\n",
              "      <td>sleepy</td>\n",
              "    </tr>\n",
              "    <tr>\n",
              "      <th>...</th>\n",
              "      <td>...</td>\n",
              "      <td>...</td>\n",
              "      <td>...</td>\n",
              "      <td>...</td>\n",
              "      <td>...</td>\n",
              "    </tr>\n",
              "    <tr>\n",
              "      <th>27209</th>\n",
              "      <td>30a1e8c2b4</td>\n",
              "      <td>guys      i know my ability to read time telli...</td>\n",
              "      <td>es faile</td>\n",
              "      <td>negative</td>\n",
              "      <td>es faile</td>\n",
              "    </tr>\n",
              "    <tr>\n",
              "      <th>27280</th>\n",
              "      <td>e77145c41c</td>\n",
              "      <td>what happened  are you suffering from necksho...</td>\n",
              "      <td>i cant move eithe</td>\n",
              "      <td>negative</td>\n",
              "      <td>eithe</td>\n",
              "    </tr>\n",
              "    <tr>\n",
              "      <th>27302</th>\n",
              "      <td>90c8aa60db</td>\n",
              "      <td>have i ever told you i absolutly hate writing ...</td>\n",
              "      <td>hate wr</td>\n",
              "      <td>negative</td>\n",
              "      <td>wr</td>\n",
              "    </tr>\n",
              "    <tr>\n",
              "      <th>27362</th>\n",
              "      <td>7b82d63ee4</td>\n",
              "      <td>just found out i wont be tweeting from my phon...</td>\n",
              "      <td>c sorr</td>\n",
              "      <td>negative</td>\n",
              "      <td>c sorr</td>\n",
              "    </tr>\n",
              "    <tr>\n",
              "      <th>27456</th>\n",
              "      <td>d32efe060f</td>\n",
              "      <td>i wanna leave work already not feelin it</td>\n",
              "      <td>wanna leave work al</td>\n",
              "      <td>negative</td>\n",
              "      <td>al</td>\n",
              "    </tr>\n",
              "  </tbody>\n",
              "</table>\n",
              "<p>520 rows × 5 columns</p>\n",
              "</div>"
            ],
            "text/plain": [
              "           textID  ...  spelling\n",
              "18     af3fed7fc3  ...      onna\n",
              "27     bdc32ea43c  ...        no\n",
              "32     1c31703aef  ...    minute\n",
              "48     3d9d4b0b55  ...        go\n",
              "60     52483f7da8  ...    sleepy\n",
              "...           ...  ...       ...\n",
              "27209  30a1e8c2b4  ...  es faile\n",
              "27280  e77145c41c  ...     eithe\n",
              "27302  90c8aa60db  ...        wr\n",
              "27362  7b82d63ee4  ...    c sorr\n",
              "27456  d32efe060f  ...        al\n",
              "\n",
              "[520 rows x 5 columns]"
            ]
          },
          "metadata": {},
          "execution_count": 33
        }
      ]
    },
    {
      "cell_type": "markdown",
      "metadata": {
        "id": "YPrADq4rUy6q"
      },
      "source": [
        "# **FuzzyWuzzy Python library**"
      ]
    },
    {
      "cell_type": "markdown",
      "metadata": {
        "id": "HmXhRbgtVHNl"
      },
      "source": [
        "* Using fuzzywuzzy library where we can have a score out of 100, that denotes two string are equal by giving similarity index.\n",
        "\n",
        "* https://www.geeksforgeeks.org/fuzzywuzzy-python-library/\n",
        "\n"
      ]
    },
    {
      "cell_type": "code",
      "metadata": {
        "colab": {
          "base_uri": "https://localhost:8080/"
        },
        "id": "fGs6m97LVB5A",
        "outputId": "83e950b2-d2d1-435d-a20b-d5dd5c6b964a"
      },
      "source": [
        "fuzz.ratio('geeksforgeeks','geeksgeeks')"
      ],
      "execution_count": null,
      "outputs": [
        {
          "output_type": "execute_result",
          "data": {
            "text/plain": [
              "87"
            ]
          },
          "metadata": {},
          "execution_count": 34
        }
      ]
    },
    {
      "cell_type": "code",
      "metadata": {
        "colab": {
          "base_uri": "https://localhost:8080/"
        },
        "id": "c7hGbd0UVglk",
        "outputId": "64119020-205c-4feb-bf41-0d00242fbb29"
      },
      "source": [
        "fuzz.ratio('GeeksforGeeks','GeeksforGeeks')"
      ],
      "execution_count": null,
      "outputs": [
        {
          "output_type": "execute_result",
          "data": {
            "text/plain": [
              "100"
            ]
          },
          "metadata": {},
          "execution_count": 35
        }
      ]
    },
    {
      "cell_type": "code",
      "metadata": {
        "id": "JwISFrfwxKPd"
      },
      "source": [
        "def matching(x):\n",
        "  text=x[0]\n",
        "  selected=x[1]\n",
        "  spelling=x[2]\n",
        "  text=text.split()\n",
        "  selected=selected.split()\n",
        "  spelling=spelling.split()\n",
        "  for s in spelling:\n",
        "    for t in text:\n",
        "      if s in selected:\n",
        "        if(fuzz.ratio(t,s)>55): \n",
        "          index=selected.index(s)\n",
        "          selected[index]=t\n",
        "  return \" \".join(selected)        "
      ],
      "execution_count": null,
      "outputs": []
    },
    {
      "cell_type": "code",
      "metadata": {
        "id": "vVYtSD3q75pP"
      },
      "source": [
        "train['selected_text']=train[['text','selected_text','spelling']].apply(lambda x: matching(x) if x['spelling']!='++++'  else x['selected_text'],axis=1)"
      ],
      "execution_count": null,
      "outputs": []
    },
    {
      "cell_type": "code",
      "metadata": {
        "id": "TEEU05LU9-W6"
      },
      "source": [
        "train['spelling']=train.apply(lambda x: wrong_words(x.text,x.selected_text),axis=1)"
      ],
      "execution_count": null,
      "outputs": []
    },
    {
      "cell_type": "code",
      "metadata": {
        "colab": {
          "base_uri": "https://localhost:8080/",
          "height": 419
        },
        "id": "UhB5OHG1-DUO",
        "outputId": "925b906f-143c-4245-bfa9-574059011f65"
      },
      "source": [
        "train.loc[(train['spelling']!='++++') & (train['sentiment']=='positive')]"
      ],
      "execution_count": null,
      "outputs": [
        {
          "output_type": "execute_result",
          "data": {
            "text/html": [
              "<div>\n",
              "<style scoped>\n",
              "    .dataframe tbody tr th:only-of-type {\n",
              "        vertical-align: middle;\n",
              "    }\n",
              "\n",
              "    .dataframe tbody tr th {\n",
              "        vertical-align: top;\n",
              "    }\n",
              "\n",
              "    .dataframe thead th {\n",
              "        text-align: right;\n",
              "    }\n",
              "</style>\n",
              "<table border=\"1\" class=\"dataframe\">\n",
              "  <thead>\n",
              "    <tr style=\"text-align: right;\">\n",
              "      <th></th>\n",
              "      <th>textID</th>\n",
              "      <th>text</th>\n",
              "      <th>selected_text</th>\n",
              "      <th>sentiment</th>\n",
              "      <th>spelling</th>\n",
              "    </tr>\n",
              "  </thead>\n",
              "  <tbody>\n",
              "    <tr>\n",
              "      <th>349</th>\n",
              "      <td>322b61740c</td>\n",
              "      <td>degrees gross skies and thunderstormsperfect...</td>\n",
              "      <td>perfect match</td>\n",
              "      <td>positive</td>\n",
              "      <td>perfect</td>\n",
              "    </tr>\n",
              "    <tr>\n",
              "      <th>362</th>\n",
              "      <td>b94aaf845e</td>\n",
              "      <td>please review sunehre ad placement</td>\n",
              "      <td>please re</td>\n",
              "      <td>positive</td>\n",
              "      <td>re</td>\n",
              "    </tr>\n",
              "    <tr>\n",
              "      <th>1077</th>\n",
              "      <td>3d5c1ed21b</td>\n",
              "      <td>up is out  i didnt get the memo   it looks am...</td>\n",
              "      <td>o it looks amazing</td>\n",
              "      <td>positive</td>\n",
              "      <td>o</td>\n",
              "    </tr>\n",
              "    <tr>\n",
              "      <th>1363</th>\n",
              "      <td>4eec486ad7</td>\n",
              "      <td>hey i loved acs but i had to see it online is...</td>\n",
              "      <td>y i loved acs but i had to see it online is no...</td>\n",
              "      <td>positive</td>\n",
              "      <td>y</td>\n",
              "    </tr>\n",
              "    <tr>\n",
              "      <th>1447</th>\n",
              "      <td>2b6bd43b14</td>\n",
              "      <td>oh ok well good for youcan i get some weather...</td>\n",
              "      <td>l good for youcan</td>\n",
              "      <td>positive</td>\n",
              "      <td>l</td>\n",
              "    </tr>\n",
              "    <tr>\n",
              "      <th>...</th>\n",
              "      <td>...</td>\n",
              "      <td>...</td>\n",
              "      <td>...</td>\n",
              "      <td>...</td>\n",
              "      <td>...</td>\n",
              "    </tr>\n",
              "    <tr>\n",
              "      <th>24169</th>\n",
              "      <td>cc58093a1b</td>\n",
              "      <td>i know our cats could be family  mikesh is so...</td>\n",
              "      <td>sh is so cute</td>\n",
              "      <td>positive</td>\n",
              "      <td>sh</td>\n",
              "    </tr>\n",
              "    <tr>\n",
              "      <th>24594</th>\n",
              "      <td>fcb4695f92</td>\n",
              "      <td>have you check oceanupmiley cyrus justin gast...</td>\n",
              "      <td>mim with you whatever happen</td>\n",
              "      <td>positive</td>\n",
              "      <td>mim</td>\n",
              "    </tr>\n",
              "    <tr>\n",
              "      <th>25059</th>\n",
              "      <td>43c9e2ebbf</td>\n",
              "      <td>i hope you hoes are having so much funnot to...</td>\n",
              "      <td>h funnot</td>\n",
              "      <td>positive</td>\n",
              "      <td>h</td>\n",
              "    </tr>\n",
              "    <tr>\n",
              "      <th>25908</th>\n",
              "      <td>fdd49e735a</td>\n",
              "      <td>ok time for bed good night twitter</td>\n",
              "      <td>good night tw</td>\n",
              "      <td>positive</td>\n",
              "      <td>tw</td>\n",
              "    </tr>\n",
              "    <tr>\n",
              "      <th>26883</th>\n",
              "      <td>ee30bf8953</td>\n",
              "      <td>im yours  jason mrazlooking for an electric gu...</td>\n",
              "      <td>yay</td>\n",
              "      <td>positive</td>\n",
              "      <td>yay</td>\n",
              "    </tr>\n",
              "  </tbody>\n",
              "</table>\n",
              "<p>90 rows × 5 columns</p>\n",
              "</div>"
            ],
            "text/plain": [
              "           textID  ... spelling\n",
              "349    322b61740c  ...  perfect\n",
              "362    b94aaf845e  ...       re\n",
              "1077   3d5c1ed21b  ...        o\n",
              "1363   4eec486ad7  ...        y\n",
              "1447   2b6bd43b14  ...        l\n",
              "...           ...  ...      ...\n",
              "24169  cc58093a1b  ...       sh\n",
              "24594  fcb4695f92  ...      mim\n",
              "25059  43c9e2ebbf  ...        h\n",
              "25908  fdd49e735a  ...       tw\n",
              "26883  ee30bf8953  ...      yay\n",
              "\n",
              "[90 rows x 5 columns]"
            ]
          },
          "metadata": {},
          "execution_count": 39
        }
      ]
    },
    {
      "cell_type": "code",
      "metadata": {
        "colab": {
          "base_uri": "https://localhost:8080/",
          "height": 419
        },
        "id": "3N1ZJAEiW0ZZ",
        "outputId": "c805662d-9e66-46ba-f6e6-2788f91e1c45"
      },
      "source": [
        "train.loc[(train['spelling']!='++++') & (train['sentiment']=='negative')]"
      ],
      "execution_count": null,
      "outputs": [
        {
          "output_type": "execute_result",
          "data": {
            "text/html": [
              "<div>\n",
              "<style scoped>\n",
              "    .dataframe tbody tr th:only-of-type {\n",
              "        vertical-align: middle;\n",
              "    }\n",
              "\n",
              "    .dataframe tbody tr th {\n",
              "        vertical-align: top;\n",
              "    }\n",
              "\n",
              "    .dataframe thead th {\n",
              "        text-align: right;\n",
              "    }\n",
              "</style>\n",
              "<table border=\"1\" class=\"dataframe\">\n",
              "  <thead>\n",
              "    <tr style=\"text-align: right;\">\n",
              "      <th></th>\n",
              "      <th>textID</th>\n",
              "      <th>text</th>\n",
              "      <th>selected_text</th>\n",
              "      <th>sentiment</th>\n",
              "      <th>spelling</th>\n",
              "    </tr>\n",
              "  </thead>\n",
              "  <tbody>\n",
              "    <tr>\n",
              "      <th>27</th>\n",
              "      <td>bdc32ea43c</td>\n",
              "      <td>on the way to malaysiano internet access to twit</td>\n",
              "      <td>no internet</td>\n",
              "      <td>negative</td>\n",
              "      <td>no</td>\n",
              "    </tr>\n",
              "    <tr>\n",
              "      <th>223</th>\n",
              "      <td>242d92151a</td>\n",
              "      <td>walking to class i hate not having a bikeespec...</td>\n",
              "      <td>i hate not having a bike</td>\n",
              "      <td>negative</td>\n",
              "      <td>bike</td>\n",
              "    </tr>\n",
              "    <tr>\n",
              "      <th>569</th>\n",
              "      <td>03f9f6f798</td>\n",
              "      <td>i dont think ive ever been so tierd in my life...</td>\n",
              "      <td>i dont think ive ever been so tierd in my lifeu</td>\n",
              "      <td>negative</td>\n",
              "      <td>lifeu</td>\n",
              "    </tr>\n",
              "    <tr>\n",
              "      <th>604</th>\n",
              "      <td>15f47296e2</td>\n",
              "      <td>soooim kinda o sick n tired of the bs that guy...</td>\n",
              "      <td>im kinda o sick n tired</td>\n",
              "      <td>negative</td>\n",
              "      <td>im</td>\n",
              "    </tr>\n",
              "    <tr>\n",
              "      <th>863</th>\n",
              "      <td>19d585c61b</td>\n",
              "      <td>my poor heather she didnt make the cheerleadin...</td>\n",
              "      <td>sorry ba</td>\n",
              "      <td>negative</td>\n",
              "      <td>ba</td>\n",
              "    </tr>\n",
              "    <tr>\n",
              "      <th>...</th>\n",
              "      <td>...</td>\n",
              "      <td>...</td>\n",
              "      <td>...</td>\n",
              "      <td>...</td>\n",
              "      <td>...</td>\n",
              "    </tr>\n",
              "    <tr>\n",
              "      <th>26248</th>\n",
              "      <td>7d4f718542</td>\n",
              "      <td>gates am also guttedthe end is nigh  x</td>\n",
              "      <td>the end is nigh</td>\n",
              "      <td>negative</td>\n",
              "      <td>the</td>\n",
              "    </tr>\n",
              "    <tr>\n",
              "      <th>27209</th>\n",
              "      <td>30a1e8c2b4</td>\n",
              "      <td>guys      i know my ability to read time telli...</td>\n",
              "      <td>es failed</td>\n",
              "      <td>negative</td>\n",
              "      <td>es</td>\n",
              "    </tr>\n",
              "    <tr>\n",
              "      <th>27302</th>\n",
              "      <td>90c8aa60db</td>\n",
              "      <td>have i ever told you i absolutly hate writing ...</td>\n",
              "      <td>hate wr</td>\n",
              "      <td>negative</td>\n",
              "      <td>wr</td>\n",
              "    </tr>\n",
              "    <tr>\n",
              "      <th>27362</th>\n",
              "      <td>7b82d63ee4</td>\n",
              "      <td>just found out i wont be tweeting from my phon...</td>\n",
              "      <td>c sorry</td>\n",
              "      <td>negative</td>\n",
              "      <td>c</td>\n",
              "    </tr>\n",
              "    <tr>\n",
              "      <th>27456</th>\n",
              "      <td>d32efe060f</td>\n",
              "      <td>i wanna leave work already not feelin it</td>\n",
              "      <td>wanna leave work al</td>\n",
              "      <td>negative</td>\n",
              "      <td>al</td>\n",
              "    </tr>\n",
              "  </tbody>\n",
              "</table>\n",
              "<p>93 rows × 5 columns</p>\n",
              "</div>"
            ],
            "text/plain": [
              "           textID  ... spelling\n",
              "27     bdc32ea43c  ...       no\n",
              "223    242d92151a  ...     bike\n",
              "569    03f9f6f798  ...    lifeu\n",
              "604    15f47296e2  ...       im\n",
              "863    19d585c61b  ...       ba\n",
              "...           ...  ...      ...\n",
              "26248  7d4f718542  ...      the\n",
              "27209  30a1e8c2b4  ...       es\n",
              "27302  90c8aa60db  ...       wr\n",
              "27362  7b82d63ee4  ...        c\n",
              "27456  d32efe060f  ...       al\n",
              "\n",
              "[93 rows x 5 columns]"
            ]
          },
          "metadata": {},
          "execution_count": 40
        }
      ]
    },
    {
      "cell_type": "code",
      "metadata": {
        "colab": {
          "base_uri": "https://localhost:8080/",
          "height": 669
        },
        "id": "D77I8xG0-TzV",
        "outputId": "87521a02-8e96-48b7-8630-604a72177f60"
      },
      "source": [
        "train[train['spelling'].apply(lambda x: len(x))==1]"
      ],
      "execution_count": null,
      "outputs": [
        {
          "output_type": "execute_result",
          "data": {
            "text/html": [
              "<div>\n",
              "<style scoped>\n",
              "    .dataframe tbody tr th:only-of-type {\n",
              "        vertical-align: middle;\n",
              "    }\n",
              "\n",
              "    .dataframe tbody tr th {\n",
              "        vertical-align: top;\n",
              "    }\n",
              "\n",
              "    .dataframe thead th {\n",
              "        text-align: right;\n",
              "    }\n",
              "</style>\n",
              "<table border=\"1\" class=\"dataframe\">\n",
              "  <thead>\n",
              "    <tr style=\"text-align: right;\">\n",
              "      <th></th>\n",
              "      <th>textID</th>\n",
              "      <th>text</th>\n",
              "      <th>selected_text</th>\n",
              "      <th>sentiment</th>\n",
              "      <th>spelling</th>\n",
              "    </tr>\n",
              "  </thead>\n",
              "  <tbody>\n",
              "    <tr>\n",
              "      <th>1077</th>\n",
              "      <td>3d5c1ed21b</td>\n",
              "      <td>up is out  i didnt get the memo   it looks am...</td>\n",
              "      <td>o it looks amazing</td>\n",
              "      <td>positive</td>\n",
              "      <td>o</td>\n",
              "    </tr>\n",
              "    <tr>\n",
              "      <th>1363</th>\n",
              "      <td>4eec486ad7</td>\n",
              "      <td>hey i loved acs but i had to see it online is...</td>\n",
              "      <td>y i loved acs but i had to see it online is no...</td>\n",
              "      <td>positive</td>\n",
              "      <td>y</td>\n",
              "    </tr>\n",
              "    <tr>\n",
              "      <th>1447</th>\n",
              "      <td>2b6bd43b14</td>\n",
              "      <td>oh ok well good for youcan i get some weather...</td>\n",
              "      <td>l good for youcan</td>\n",
              "      <td>positive</td>\n",
              "      <td>l</td>\n",
              "    </tr>\n",
              "    <tr>\n",
              "      <th>3720</th>\n",
              "      <td>4034294a60</td>\n",
              "      <td>followfriday     follow these ppl  they are in...</td>\n",
              "      <td>l they are interesting doesnt tweet much they</td>\n",
              "      <td>positive</td>\n",
              "      <td>l</td>\n",
              "    </tr>\n",
              "    <tr>\n",
              "      <th>4764</th>\n",
              "      <td>43e6d9aeaa</td>\n",
              "      <td>well i guess they think of everything   thank...</td>\n",
              "      <td>g think</td>\n",
              "      <td>positive</td>\n",
              "      <td>g</td>\n",
              "    </tr>\n",
              "    <tr>\n",
              "      <th>6939</th>\n",
              "      <td>a50c8dc573</td>\n",
              "      <td>o its feels like a hot box and no matter wher...</td>\n",
              "      <td>s like a hot box a</td>\n",
              "      <td>negative</td>\n",
              "      <td>s</td>\n",
              "    </tr>\n",
              "    <tr>\n",
              "      <th>6948</th>\n",
              "      <td>7b25c09b0f</td>\n",
              "      <td>im sure lots of that studio equipment was col...</td>\n",
              "      <td>y collected</td>\n",
              "      <td>negative</td>\n",
              "      <td>y</td>\n",
              "    </tr>\n",
              "    <tr>\n",
              "      <th>9063</th>\n",
              "      <td>3e775363a1</td>\n",
              "      <td>we cant even call you from belgium  sucks</td>\n",
              "      <td>m sucks</td>\n",
              "      <td>negative</td>\n",
              "      <td>m</td>\n",
              "    </tr>\n",
              "    <tr>\n",
              "      <th>9539</th>\n",
              "      <td>825b22b853</td>\n",
              "      <td>wait  and  electrik red or richgirl  im a suck...</td>\n",
              "      <td>l im a sucker for the wait</td>\n",
              "      <td>negative</td>\n",
              "      <td>l</td>\n",
              "    </tr>\n",
              "    <tr>\n",
              "      <th>11431</th>\n",
              "      <td>e158424933</td>\n",
              "      <td>nope san leandro marina    how are you  hope y...</td>\n",
              "      <td>u hope youre well</td>\n",
              "      <td>positive</td>\n",
              "      <td>u</td>\n",
              "    </tr>\n",
              "    <tr>\n",
              "      <th>13445</th>\n",
              "      <td>af0ac6b470</td>\n",
              "      <td>presentation went well  yes i also met a buch...</td>\n",
              "      <td>h of cool people checked your portfolio nice w...</td>\n",
              "      <td>positive</td>\n",
              "      <td>h</td>\n",
              "    </tr>\n",
              "    <tr>\n",
              "      <th>14571</th>\n",
              "      <td>7abcaab000</td>\n",
              "      <td>im out of town next week   well have to party...</td>\n",
              "      <td>k happy</td>\n",
              "      <td>positive</td>\n",
              "      <td>k</td>\n",
              "    </tr>\n",
              "    <tr>\n",
              "      <th>17627</th>\n",
              "      <td>e040d9f166</td>\n",
              "      <td>what did i do to you  sheesh</td>\n",
              "      <td>u sheesh</td>\n",
              "      <td>negative</td>\n",
              "      <td>u</td>\n",
              "    </tr>\n",
              "    <tr>\n",
              "      <th>21495</th>\n",
              "      <td>0d0959690c</td>\n",
              "      <td>were you able to watch it online  i hope you ...</td>\n",
              "      <td>h belinda jensen was really good</td>\n",
              "      <td>positive</td>\n",
              "      <td>h</td>\n",
              "    </tr>\n",
              "    <tr>\n",
              "      <th>22928</th>\n",
              "      <td>3c68f6963c</td>\n",
              "      <td>lol  on blipfm is not the  on twitter i hate ...</td>\n",
              "      <td>r i hate that on</td>\n",
              "      <td>negative</td>\n",
              "      <td>r</td>\n",
              "    </tr>\n",
              "    <tr>\n",
              "      <th>23415</th>\n",
              "      <td>0dac65e546</td>\n",
              "      <td>arnold california  aka the best place everwis...</td>\n",
              "      <td>a the best place everwish</td>\n",
              "      <td>positive</td>\n",
              "      <td>a</td>\n",
              "    </tr>\n",
              "    <tr>\n",
              "      <th>24002</th>\n",
              "      <td>c62590abcd</td>\n",
              "      <td>shiv his place slowly i hope</td>\n",
              "      <td>y i hope</td>\n",
              "      <td>positive</td>\n",
              "      <td>y</td>\n",
              "    </tr>\n",
              "    <tr>\n",
              "      <th>25059</th>\n",
              "      <td>43c9e2ebbf</td>\n",
              "      <td>i hope you hoes are having so much funnot to...</td>\n",
              "      <td>h funnot</td>\n",
              "      <td>positive</td>\n",
              "      <td>h</td>\n",
              "    </tr>\n",
              "    <tr>\n",
              "      <th>26241</th>\n",
              "      <td>2dff366260</td>\n",
              "      <td>going to shawneei hate the long drive therei j...</td>\n",
              "      <td>i hate the long drive the</td>\n",
              "      <td>negative</td>\n",
              "      <td>i</td>\n",
              "    </tr>\n",
              "    <tr>\n",
              "      <th>27362</th>\n",
              "      <td>7b82d63ee4</td>\n",
              "      <td>just found out i wont be tweeting from my phon...</td>\n",
              "      <td>c sorry</td>\n",
              "      <td>negative</td>\n",
              "      <td>c</td>\n",
              "    </tr>\n",
              "  </tbody>\n",
              "</table>\n",
              "</div>"
            ],
            "text/plain": [
              "           textID  ... spelling\n",
              "1077   3d5c1ed21b  ...        o\n",
              "1363   4eec486ad7  ...        y\n",
              "1447   2b6bd43b14  ...        l\n",
              "3720   4034294a60  ...        l\n",
              "4764   43e6d9aeaa  ...        g\n",
              "6939   a50c8dc573  ...        s\n",
              "6948   7b25c09b0f  ...        y\n",
              "9063   3e775363a1  ...        m\n",
              "9539   825b22b853  ...        l\n",
              "11431  e158424933  ...        u\n",
              "13445  af0ac6b470  ...        h\n",
              "14571  7abcaab000  ...        k\n",
              "17627  e040d9f166  ...        u\n",
              "21495  0d0959690c  ...        h\n",
              "22928  3c68f6963c  ...        r\n",
              "23415  0dac65e546  ...        a\n",
              "24002  c62590abcd  ...        y\n",
              "25059  43c9e2ebbf  ...        h\n",
              "26241  2dff366260  ...        i\n",
              "27362  7b82d63ee4  ...        c\n",
              "\n",
              "[20 rows x 5 columns]"
            ]
          },
          "metadata": {},
          "execution_count": 41
        }
      ]
    },
    {
      "cell_type": "code",
      "metadata": {
        "id": "FzKBRUzp-aUA"
      },
      "source": [
        "train['selected_text']=train[['selected_text','spelling']].apply(lambda x: remove_text(x) if len(x['spelling'])==1  else x['selected_text'],axis=1)"
      ],
      "execution_count": null,
      "outputs": []
    },
    {
      "cell_type": "code",
      "metadata": {
        "id": "9ogC5ol7-ium"
      },
      "source": [
        "train['spelling']=train.apply(lambda x: wrong_words(x.text,x.selected_text),axis=1)"
      ],
      "execution_count": null,
      "outputs": []
    },
    {
      "cell_type": "code",
      "metadata": {
        "colab": {
          "base_uri": "https://localhost:8080/",
          "height": 49
        },
        "id": "8b1vEdPR-oK-",
        "outputId": "4d9b4c1e-1c3c-43ab-d705-daf7710ca759"
      },
      "source": [
        "train[train['spelling'].apply(lambda x: len(x))==1]"
      ],
      "execution_count": null,
      "outputs": [
        {
          "output_type": "execute_result",
          "data": {
            "text/html": [
              "<div>\n",
              "<style scoped>\n",
              "    .dataframe tbody tr th:only-of-type {\n",
              "        vertical-align: middle;\n",
              "    }\n",
              "\n",
              "    .dataframe tbody tr th {\n",
              "        vertical-align: top;\n",
              "    }\n",
              "\n",
              "    .dataframe thead th {\n",
              "        text-align: right;\n",
              "    }\n",
              "</style>\n",
              "<table border=\"1\" class=\"dataframe\">\n",
              "  <thead>\n",
              "    <tr style=\"text-align: right;\">\n",
              "      <th></th>\n",
              "      <th>textID</th>\n",
              "      <th>text</th>\n",
              "      <th>selected_text</th>\n",
              "      <th>sentiment</th>\n",
              "      <th>spelling</th>\n",
              "    </tr>\n",
              "  </thead>\n",
              "  <tbody>\n",
              "  </tbody>\n",
              "</table>\n",
              "</div>"
            ],
            "text/plain": [
              "Empty DataFrame\n",
              "Columns: [textID, text, selected_text, sentiment, spelling]\n",
              "Index: []"
            ]
          },
          "metadata": {},
          "execution_count": 44
        }
      ]
    },
    {
      "cell_type": "code",
      "metadata": {
        "colab": {
          "base_uri": "https://localhost:8080/",
          "height": 419
        },
        "id": "c2KRPePT-v3h",
        "outputId": "09859e10-3977-4a4c-8a25-3c0e08c7de9f"
      },
      "source": [
        "train.loc[(train['spelling']!='++++') & (train['sentiment']=='positive')]"
      ],
      "execution_count": null,
      "outputs": [
        {
          "output_type": "execute_result",
          "data": {
            "text/html": [
              "<div>\n",
              "<style scoped>\n",
              "    .dataframe tbody tr th:only-of-type {\n",
              "        vertical-align: middle;\n",
              "    }\n",
              "\n",
              "    .dataframe tbody tr th {\n",
              "        vertical-align: top;\n",
              "    }\n",
              "\n",
              "    .dataframe thead th {\n",
              "        text-align: right;\n",
              "    }\n",
              "</style>\n",
              "<table border=\"1\" class=\"dataframe\">\n",
              "  <thead>\n",
              "    <tr style=\"text-align: right;\">\n",
              "      <th></th>\n",
              "      <th>textID</th>\n",
              "      <th>text</th>\n",
              "      <th>selected_text</th>\n",
              "      <th>sentiment</th>\n",
              "      <th>spelling</th>\n",
              "    </tr>\n",
              "  </thead>\n",
              "  <tbody>\n",
              "    <tr>\n",
              "      <th>349</th>\n",
              "      <td>322b61740c</td>\n",
              "      <td>degrees gross skies and thunderstormsperfect...</td>\n",
              "      <td>perfect match</td>\n",
              "      <td>positive</td>\n",
              "      <td>perfect</td>\n",
              "    </tr>\n",
              "    <tr>\n",
              "      <th>362</th>\n",
              "      <td>b94aaf845e</td>\n",
              "      <td>please review sunehre ad placement</td>\n",
              "      <td>please re</td>\n",
              "      <td>positive</td>\n",
              "      <td>re</td>\n",
              "    </tr>\n",
              "    <tr>\n",
              "      <th>1531</th>\n",
              "      <td>a0ee798944</td>\n",
              "      <td>waiting to go to bed had a great weekend</td>\n",
              "      <td>great we</td>\n",
              "      <td>positive</td>\n",
              "      <td>we</td>\n",
              "    </tr>\n",
              "    <tr>\n",
              "      <th>1580</th>\n",
              "      <td>8a159382ea</td>\n",
              "      <td>just woke up gonna have a shower and go to nan...</td>\n",
              "      <td>happy mo</td>\n",
              "      <td>positive</td>\n",
              "      <td>mo</td>\n",
              "    </tr>\n",
              "    <tr>\n",
              "      <th>1588</th>\n",
              "      <td>a7f72a928a</td>\n",
              "      <td>woooooooooo   are you coming to nottingham at...</td>\n",
              "      <td>to lovelovelove</td>\n",
              "      <td>positive</td>\n",
              "      <td>lovelovelove</td>\n",
              "    </tr>\n",
              "    <tr>\n",
              "      <th>...</th>\n",
              "      <td>...</td>\n",
              "      <td>...</td>\n",
              "      <td>...</td>\n",
              "      <td>...</td>\n",
              "      <td>...</td>\n",
              "    </tr>\n",
              "    <tr>\n",
              "      <th>24123</th>\n",
              "      <td>4591bce14e</td>\n",
              "      <td>think you should catch up on your sleep befor...</td>\n",
              "      <td>haha goodnight</td>\n",
              "      <td>positive</td>\n",
              "      <td>goodnight</td>\n",
              "    </tr>\n",
              "    <tr>\n",
              "      <th>24169</th>\n",
              "      <td>cc58093a1b</td>\n",
              "      <td>i know our cats could be family  mikesh is so...</td>\n",
              "      <td>sh is so cute</td>\n",
              "      <td>positive</td>\n",
              "      <td>sh</td>\n",
              "    </tr>\n",
              "    <tr>\n",
              "      <th>24594</th>\n",
              "      <td>fcb4695f92</td>\n",
              "      <td>have you check oceanupmiley cyrus justin gast...</td>\n",
              "      <td>mim with you whatever happen</td>\n",
              "      <td>positive</td>\n",
              "      <td>mim</td>\n",
              "    </tr>\n",
              "    <tr>\n",
              "      <th>25908</th>\n",
              "      <td>fdd49e735a</td>\n",
              "      <td>ok time for bed good night twitter</td>\n",
              "      <td>good night tw</td>\n",
              "      <td>positive</td>\n",
              "      <td>tw</td>\n",
              "    </tr>\n",
              "    <tr>\n",
              "      <th>26883</th>\n",
              "      <td>ee30bf8953</td>\n",
              "      <td>im yours  jason mrazlooking for an electric gu...</td>\n",
              "      <td>yay</td>\n",
              "      <td>positive</td>\n",
              "      <td>yay</td>\n",
              "    </tr>\n",
              "  </tbody>\n",
              "</table>\n",
              "<p>78 rows × 5 columns</p>\n",
              "</div>"
            ],
            "text/plain": [
              "           textID  ...      spelling\n",
              "349    322b61740c  ...       perfect\n",
              "362    b94aaf845e  ...            re\n",
              "1531   a0ee798944  ...            we\n",
              "1580   8a159382ea  ...            mo\n",
              "1588   a7f72a928a  ...  lovelovelove\n",
              "...           ...  ...           ...\n",
              "24123  4591bce14e  ...     goodnight\n",
              "24169  cc58093a1b  ...            sh\n",
              "24594  fcb4695f92  ...           mim\n",
              "25908  fdd49e735a  ...            tw\n",
              "26883  ee30bf8953  ...           yay\n",
              "\n",
              "[78 rows x 5 columns]"
            ]
          },
          "metadata": {},
          "execution_count": 45
        }
      ]
    },
    {
      "cell_type": "code",
      "metadata": {
        "colab": {
          "base_uri": "https://localhost:8080/",
          "height": 419
        },
        "id": "0t25DnYNb_LD",
        "outputId": "16eb0053-47a5-4cb7-8176-afd3fb286986"
      },
      "source": [
        "train.loc[(train['spelling']!='++++') & (train['sentiment']=='negative')]"
      ],
      "execution_count": null,
      "outputs": [
        {
          "output_type": "execute_result",
          "data": {
            "text/html": [
              "<div>\n",
              "<style scoped>\n",
              "    .dataframe tbody tr th:only-of-type {\n",
              "        vertical-align: middle;\n",
              "    }\n",
              "\n",
              "    .dataframe tbody tr th {\n",
              "        vertical-align: top;\n",
              "    }\n",
              "\n",
              "    .dataframe thead th {\n",
              "        text-align: right;\n",
              "    }\n",
              "</style>\n",
              "<table border=\"1\" class=\"dataframe\">\n",
              "  <thead>\n",
              "    <tr style=\"text-align: right;\">\n",
              "      <th></th>\n",
              "      <th>textID</th>\n",
              "      <th>text</th>\n",
              "      <th>selected_text</th>\n",
              "      <th>sentiment</th>\n",
              "      <th>spelling</th>\n",
              "    </tr>\n",
              "  </thead>\n",
              "  <tbody>\n",
              "    <tr>\n",
              "      <th>27</th>\n",
              "      <td>bdc32ea43c</td>\n",
              "      <td>on the way to malaysiano internet access to twit</td>\n",
              "      <td>no internet</td>\n",
              "      <td>negative</td>\n",
              "      <td>no</td>\n",
              "    </tr>\n",
              "    <tr>\n",
              "      <th>223</th>\n",
              "      <td>242d92151a</td>\n",
              "      <td>walking to class i hate not having a bikeespec...</td>\n",
              "      <td>i hate not having a bike</td>\n",
              "      <td>negative</td>\n",
              "      <td>bike</td>\n",
              "    </tr>\n",
              "    <tr>\n",
              "      <th>569</th>\n",
              "      <td>03f9f6f798</td>\n",
              "      <td>i dont think ive ever been so tierd in my life...</td>\n",
              "      <td>i dont think ive ever been so tierd in my lifeu</td>\n",
              "      <td>negative</td>\n",
              "      <td>lifeu</td>\n",
              "    </tr>\n",
              "    <tr>\n",
              "      <th>604</th>\n",
              "      <td>15f47296e2</td>\n",
              "      <td>soooim kinda o sick n tired of the bs that guy...</td>\n",
              "      <td>im kinda o sick n tired</td>\n",
              "      <td>negative</td>\n",
              "      <td>im</td>\n",
              "    </tr>\n",
              "    <tr>\n",
              "      <th>863</th>\n",
              "      <td>19d585c61b</td>\n",
              "      <td>my poor heather she didnt make the cheerleadin...</td>\n",
              "      <td>sorry ba</td>\n",
              "      <td>negative</td>\n",
              "      <td>ba</td>\n",
              "    </tr>\n",
              "    <tr>\n",
              "      <th>...</th>\n",
              "      <td>...</td>\n",
              "      <td>...</td>\n",
              "      <td>...</td>\n",
              "      <td>...</td>\n",
              "      <td>...</td>\n",
              "    </tr>\n",
              "    <tr>\n",
              "      <th>26088</th>\n",
              "      <td>69a24b165f</td>\n",
              "      <td>taking willy to the specialistpoor dog he has ...</td>\n",
              "      <td>poor dog he</td>\n",
              "      <td>negative</td>\n",
              "      <td>poor</td>\n",
              "    </tr>\n",
              "    <tr>\n",
              "      <th>26248</th>\n",
              "      <td>7d4f718542</td>\n",
              "      <td>gates am also guttedthe end is nigh  x</td>\n",
              "      <td>the end is nigh</td>\n",
              "      <td>negative</td>\n",
              "      <td>the</td>\n",
              "    </tr>\n",
              "    <tr>\n",
              "      <th>27209</th>\n",
              "      <td>30a1e8c2b4</td>\n",
              "      <td>guys      i know my ability to read time telli...</td>\n",
              "      <td>es failed</td>\n",
              "      <td>negative</td>\n",
              "      <td>es</td>\n",
              "    </tr>\n",
              "    <tr>\n",
              "      <th>27302</th>\n",
              "      <td>90c8aa60db</td>\n",
              "      <td>have i ever told you i absolutly hate writing ...</td>\n",
              "      <td>hate wr</td>\n",
              "      <td>negative</td>\n",
              "      <td>wr</td>\n",
              "    </tr>\n",
              "    <tr>\n",
              "      <th>27456</th>\n",
              "      <td>d32efe060f</td>\n",
              "      <td>i wanna leave work already not feelin it</td>\n",
              "      <td>wanna leave work al</td>\n",
              "      <td>negative</td>\n",
              "      <td>al</td>\n",
              "    </tr>\n",
              "  </tbody>\n",
              "</table>\n",
              "<p>85 rows × 5 columns</p>\n",
              "</div>"
            ],
            "text/plain": [
              "           textID  ... spelling\n",
              "27     bdc32ea43c  ...       no\n",
              "223    242d92151a  ...     bike\n",
              "569    03f9f6f798  ...    lifeu\n",
              "604    15f47296e2  ...       im\n",
              "863    19d585c61b  ...       ba\n",
              "...           ...  ...      ...\n",
              "26088  69a24b165f  ...     poor\n",
              "26248  7d4f718542  ...      the\n",
              "27209  30a1e8c2b4  ...       es\n",
              "27302  90c8aa60db  ...       wr\n",
              "27456  d32efe060f  ...       al\n",
              "\n",
              "[85 rows x 5 columns]"
            ]
          },
          "metadata": {},
          "execution_count": 46
        }
      ]
    },
    {
      "cell_type": "code",
      "metadata": {
        "id": "2b6gDnAQmNZC"
      },
      "source": [
        "def matching(x):\n",
        "  text=x[0]\n",
        "  selected=x[1]\n",
        "  spelling=x[2]\n",
        "  text=text.split()\n",
        "  selected=selected.split()\n",
        "  spelling=spelling.split()\n",
        "  for s in spelling:\n",
        "    for t in text:\n",
        "      if s in selected:\n",
        "        if(fuzz.ratio(t,s)>35):\n",
        "          index=selected.index(s)\n",
        "          selected[index]=t\n",
        "  return \" \".join(selected)"
      ],
      "execution_count": null,
      "outputs": []
    },
    {
      "cell_type": "code",
      "metadata": {
        "id": "FDU8Xn6tmn5O"
      },
      "source": [
        "train['selected_text']=train[['text','selected_text','spelling']].apply(lambda x: matching(x) if x['spelling']!='++++'  else x['selected_text'],axis=1)"
      ],
      "execution_count": null,
      "outputs": []
    },
    {
      "cell_type": "code",
      "metadata": {
        "id": "aQbBUN-IXGh6"
      },
      "source": [
        "train['spelling']=train.apply(lambda x: wrong_words(x.text,x.selected_text),axis=1)"
      ],
      "execution_count": null,
      "outputs": []
    },
    {
      "cell_type": "code",
      "metadata": {
        "colab": {
          "base_uri": "https://localhost:8080/",
          "height": 142
        },
        "id": "Ns8IUnC2XLZE",
        "outputId": "79782b9e-39ca-4fbb-8de5-cd70cd7acec7"
      },
      "source": [
        "train.loc[(train['spelling']!='++++') & (train['sentiment']=='positive')]"
      ],
      "execution_count": null,
      "outputs": [
        {
          "output_type": "execute_result",
          "data": {
            "text/html": [
              "<div>\n",
              "<style scoped>\n",
              "    .dataframe tbody tr th:only-of-type {\n",
              "        vertical-align: middle;\n",
              "    }\n",
              "\n",
              "    .dataframe tbody tr th {\n",
              "        vertical-align: top;\n",
              "    }\n",
              "\n",
              "    .dataframe thead th {\n",
              "        text-align: right;\n",
              "    }\n",
              "</style>\n",
              "<table border=\"1\" class=\"dataframe\">\n",
              "  <thead>\n",
              "    <tr style=\"text-align: right;\">\n",
              "      <th></th>\n",
              "      <th>textID</th>\n",
              "      <th>text</th>\n",
              "      <th>selected_text</th>\n",
              "      <th>sentiment</th>\n",
              "      <th>spelling</th>\n",
              "    </tr>\n",
              "  </thead>\n",
              "  <tbody>\n",
              "    <tr>\n",
              "      <th>1588</th>\n",
              "      <td>a7f72a928a</td>\n",
              "      <td>woooooooooo   are you coming to nottingham at...</td>\n",
              "      <td>to lovelovelove</td>\n",
              "      <td>positive</td>\n",
              "      <td>lovelovelove</td>\n",
              "    </tr>\n",
              "    <tr>\n",
              "      <th>7410</th>\n",
              "      <td>3463ecdfd6</td>\n",
              "      <td>imintheroom imwatchingthehannahmoviewithmomshe...</td>\n",
              "      <td>great</td>\n",
              "      <td>positive</td>\n",
              "      <td>great</td>\n",
              "    </tr>\n",
              "    <tr>\n",
              "      <th>10521</th>\n",
              "      <td>f29edbc282</td>\n",
              "      <td>dora the explorer  greetings to your niece</td>\n",
              "      <td>enjoy</td>\n",
              "      <td>positive</td>\n",
              "      <td>enjoy</td>\n",
              "    </tr>\n",
              "  </tbody>\n",
              "</table>\n",
              "</div>"
            ],
            "text/plain": [
              "           textID  ...      spelling\n",
              "1588   a7f72a928a  ...  lovelovelove\n",
              "7410   3463ecdfd6  ...         great\n",
              "10521  f29edbc282  ...         enjoy\n",
              "\n",
              "[3 rows x 5 columns]"
            ]
          },
          "metadata": {},
          "execution_count": 50
        }
      ]
    },
    {
      "cell_type": "code",
      "metadata": {
        "colab": {
          "base_uri": "https://localhost:8080/",
          "height": 35
        },
        "id": "RPETTZzIYZth",
        "outputId": "261362ff-cd05-41cd-9253-68c85c44e5de"
      },
      "source": [
        "train.loc[7410].text"
      ],
      "execution_count": null,
      "outputs": [
        {
          "output_type": "execute_result",
          "data": {
            "application/vnd.google.colaboratory.intrinsic+json": {
              "type": "string"
            },
            "text/plain": [
              "'imintheroom imwatchingthehannahmoviewithmomshesaidthisfilmverygreat'"
            ]
          },
          "metadata": {},
          "execution_count": 51
        }
      ]
    },
    {
      "cell_type": "code",
      "metadata": {
        "id": "0Y_h915CbNNT"
      },
      "source": [
        "train.loc[7410].text='im in the room im watching the hannah movie with mom she said this film very great'"
      ],
      "execution_count": null,
      "outputs": []
    },
    {
      "cell_type": "code",
      "metadata": {
        "colab": {
          "base_uri": "https://localhost:8080/",
          "height": 35
        },
        "id": "vni9F3THanQM",
        "outputId": "8530fa13-1f38-489b-824a-71a6d3aa4cf4"
      },
      "source": [
        "train.loc[1588].text"
      ],
      "execution_count": null,
      "outputs": [
        {
          "output_type": "execute_result",
          "data": {
            "application/vnd.google.colaboratory.intrinsic+json": {
              "type": "string"
            },
            "text/plain": [
              "' woooooooooo   are you coming to nottingham at any point   '"
            ]
          },
          "metadata": {},
          "execution_count": 53
        }
      ]
    },
    {
      "cell_type": "code",
      "metadata": {
        "id": "KmcoMM4PbFYq"
      },
      "source": [
        "train.loc[1588].selected_text='woooooooooo'"
      ],
      "execution_count": null,
      "outputs": []
    },
    {
      "cell_type": "code",
      "metadata": {
        "colab": {
          "base_uri": "https://localhost:8080/",
          "height": 35
        },
        "id": "UMr9lTgjawZ3",
        "outputId": "5169e8b5-0cc7-4175-8049-2237848942a2"
      },
      "source": [
        "train.loc[10521].text"
      ],
      "execution_count": null,
      "outputs": [
        {
          "output_type": "execute_result",
          "data": {
            "application/vnd.google.colaboratory.intrinsic+json": {
              "type": "string"
            },
            "text/plain": [
              "'   dora the explorer  greetings to your niece'"
            ]
          },
          "metadata": {},
          "execution_count": 55
        }
      ]
    },
    {
      "cell_type": "code",
      "metadata": {
        "id": "Z3VHoxQZgCqF"
      },
      "source": [
        "train.loc[10521].selected_text='greetings'"
      ],
      "execution_count": null,
      "outputs": []
    },
    {
      "cell_type": "code",
      "metadata": {
        "colab": {
          "base_uri": "https://localhost:8080/",
          "height": 266
        },
        "id": "UKc30fBWXWCF",
        "outputId": "9a4ec024-8272-4434-eba3-4fd0f0e49bf1"
      },
      "source": [
        "train.loc[(train['spelling']!='++++') & (train['sentiment']=='negative')]"
      ],
      "execution_count": null,
      "outputs": [
        {
          "output_type": "execute_result",
          "data": {
            "text/html": [
              "<div>\n",
              "<style scoped>\n",
              "    .dataframe tbody tr th:only-of-type {\n",
              "        vertical-align: middle;\n",
              "    }\n",
              "\n",
              "    .dataframe tbody tr th {\n",
              "        vertical-align: top;\n",
              "    }\n",
              "\n",
              "    .dataframe thead th {\n",
              "        text-align: right;\n",
              "    }\n",
              "</style>\n",
              "<table border=\"1\" class=\"dataframe\">\n",
              "  <thead>\n",
              "    <tr style=\"text-align: right;\">\n",
              "      <th></th>\n",
              "      <th>textID</th>\n",
              "      <th>text</th>\n",
              "      <th>selected_text</th>\n",
              "      <th>sentiment</th>\n",
              "      <th>spelling</th>\n",
              "    </tr>\n",
              "  </thead>\n",
              "  <tbody>\n",
              "    <tr>\n",
              "      <th>2398</th>\n",
              "      <td>983dfecd25</td>\n",
              "      <td>gonna do laundrynever did laundry  a hotel bef...</td>\n",
              "      <td>did miss you r</td>\n",
              "      <td>negative</td>\n",
              "      <td>r</td>\n",
              "    </tr>\n",
              "    <tr>\n",
              "      <th>6113</th>\n",
              "      <td>2cb67e64b4</td>\n",
              "      <td>these dogs are going to die if somebody doe...</td>\n",
              "      <td>aam these dogs are going to die if somebody do...</td>\n",
              "      <td>negative</td>\n",
              "      <td>aam</td>\n",
              "    </tr>\n",
              "    <tr>\n",
              "      <th>9817</th>\n",
              "      <td>3358792fc9</td>\n",
              "      <td>following   and followers   nice</td>\n",
              "      <td>not nice</td>\n",
              "      <td>negative</td>\n",
              "      <td>not</td>\n",
              "    </tr>\n",
              "    <tr>\n",
              "      <th>13637</th>\n",
              "      <td>d83fd6c942</td>\n",
              "      <td>tweeets     fgs tweekdeckkk hates me  cryyyy</td>\n",
              "      <td>kk hates me cryyyy</td>\n",
              "      <td>negative</td>\n",
              "      <td>kk</td>\n",
              "    </tr>\n",
              "    <tr>\n",
              "      <th>14839</th>\n",
              "      <td>b19376c3bd</td>\n",
              "      <td>just got back fromahem   boring but had to eat...</td>\n",
              "      <td>was boring but had to eat nonetheless</td>\n",
              "      <td>negative</td>\n",
              "      <td>was</td>\n",
              "    </tr>\n",
              "    <tr>\n",
              "      <th>16201</th>\n",
              "      <td>e78c1ad3f5</td>\n",
              "      <td>off to work off at</td>\n",
              "      <td>lammmeeee</td>\n",
              "      <td>negative</td>\n",
              "      <td>lammmeeee</td>\n",
              "    </tr>\n",
              "    <tr>\n",
              "      <th>25293</th>\n",
              "      <td>2fdbe40c03</td>\n",
              "      <td>grreverytime he gets a new girlfriendim at the...</td>\n",
              "      <td>im at the bottom of the totem pole</td>\n",
              "      <td>negative</td>\n",
              "      <td>im</td>\n",
              "    </tr>\n",
              "  </tbody>\n",
              "</table>\n",
              "</div>"
            ],
            "text/plain": [
              "           textID  ...   spelling\n",
              "2398   983dfecd25  ...          r\n",
              "6113   2cb67e64b4  ...        aam\n",
              "9817   3358792fc9  ...        not\n",
              "13637  d83fd6c942  ...         kk\n",
              "14839  b19376c3bd  ...        was\n",
              "16201  e78c1ad3f5  ...  lammmeeee\n",
              "25293  2fdbe40c03  ...         im\n",
              "\n",
              "[7 rows x 5 columns]"
            ]
          },
          "metadata": {},
          "execution_count": 57
        }
      ]
    },
    {
      "cell_type": "code",
      "metadata": {
        "colab": {
          "base_uri": "https://localhost:8080/",
          "height": 35
        },
        "id": "a5U754T1gvY7",
        "outputId": "5d5d24a0-54cf-4699-9f67-6d95af72f66b"
      },
      "source": [
        "train.loc[2398].text"
      ],
      "execution_count": null,
      "outputs": [
        {
          "output_type": "execute_result",
          "data": {
            "application/vnd.google.colaboratory.intrinsic+json": {
              "type": "string"
            },
            "text/plain": [
              "'gonna do laundrynever did laundry  a hotel beforei miss you reven though you ignore me and don even check on me'"
            ]
          },
          "metadata": {},
          "execution_count": 58
        }
      ]
    },
    {
      "cell_type": "code",
      "metadata": {
        "id": "EgnnUZHIiHcN"
      },
      "source": [
        "train.loc[2398].selected_text='did miss you'"
      ],
      "execution_count": null,
      "outputs": []
    },
    {
      "cell_type": "code",
      "metadata": {
        "colab": {
          "base_uri": "https://localhost:8080/",
          "height": 35
        },
        "id": "akPu-CtThC-1",
        "outputId": "c7a49614-46ae-4add-8be4-3c1ff4a4cba0"
      },
      "source": [
        "train.loc[6113].text"
      ],
      "execution_count": null,
      "outputs": [
        {
          "output_type": "execute_result",
          "data": {
            "application/vnd.google.colaboratory.intrinsic+json": {
              "type": "string"
            },
            "text/plain": [
              "'   these dogs are going to die if somebody doesnt save them'"
            ]
          },
          "metadata": {},
          "execution_count": 60
        }
      ]
    },
    {
      "cell_type": "code",
      "metadata": {
        "id": "E3jt7nush9BO"
      },
      "source": [
        "train.loc[6113].selected_text='these dogs are going to die if somebody doesnt save them'"
      ],
      "execution_count": null,
      "outputs": []
    },
    {
      "cell_type": "code",
      "metadata": {
        "colab": {
          "base_uri": "https://localhost:8080/",
          "height": 35
        },
        "id": "qmqNZsc-hMeq",
        "outputId": "884a65d6-c924-4929-f5ee-a99b6a9a371e"
      },
      "source": [
        "train.loc[9817].text"
      ],
      "execution_count": null,
      "outputs": [
        {
          "output_type": "execute_result",
          "data": {
            "application/vnd.google.colaboratory.intrinsic+json": {
              "type": "string"
            },
            "text/plain": [
              "' following   and followers   nice'"
            ]
          },
          "metadata": {},
          "execution_count": 62
        }
      ]
    },
    {
      "cell_type": "code",
      "metadata": {
        "id": "yp8OOpt-hxvG"
      },
      "source": [
        "train.loc[9817].text='following and followers not nice'"
      ],
      "execution_count": null,
      "outputs": []
    },
    {
      "cell_type": "code",
      "metadata": {
        "colab": {
          "base_uri": "https://localhost:8080/",
          "height": 35
        },
        "id": "xS6u08VViXqq",
        "outputId": "c9c1d946-2f79-4d78-975c-215fc6b97488"
      },
      "source": [
        "train.loc[13637].text"
      ],
      "execution_count": null,
      "outputs": [
        {
          "output_type": "execute_result",
          "data": {
            "application/vnd.google.colaboratory.intrinsic+json": {
              "type": "string"
            },
            "text/plain": [
              "'  tweeets     fgs tweekdeckkk hates me  cryyyy'"
            ]
          },
          "metadata": {},
          "execution_count": 64
        }
      ]
    },
    {
      "cell_type": "code",
      "metadata": {
        "id": "Yt402O6sitZ_"
      },
      "source": [
        "train.loc[13637].selected_text='hates me  cryyyy'"
      ],
      "execution_count": null,
      "outputs": []
    },
    {
      "cell_type": "code",
      "metadata": {
        "colab": {
          "base_uri": "https://localhost:8080/",
          "height": 35
        },
        "id": "trKCm1BfkajL",
        "outputId": "607e05f0-25ba-40c1-a2a4-7c3f3d180020"
      },
      "source": [
        "train.loc[14839].text"
      ],
      "execution_count": null,
      "outputs": [
        {
          "output_type": "execute_result",
          "data": {
            "application/vnd.google.colaboratory.intrinsic+json": {
              "type": "string"
            },
            "text/plain": [
              "'just got back fromahem   boring but had to eat nonetheless'"
            ]
          },
          "metadata": {},
          "execution_count": 66
        }
      ]
    },
    {
      "cell_type": "code",
      "metadata": {
        "id": "UlH3YiuWklUU"
      },
      "source": [
        "train.loc[14839].selected_text='boring but had to eat nonetheless'"
      ],
      "execution_count": null,
      "outputs": []
    },
    {
      "cell_type": "code",
      "metadata": {
        "colab": {
          "base_uri": "https://localhost:8080/",
          "height": 35
        },
        "id": "9VUU_x4NkqcT",
        "outputId": "422d8e99-f943-4643-af3d-367354a3f3e3"
      },
      "source": [
        "train.loc[16201].text"
      ],
      "execution_count": null,
      "outputs": [
        {
          "output_type": "execute_result",
          "data": {
            "application/vnd.google.colaboratory.intrinsic+json": {
              "type": "string"
            },
            "text/plain": [
              "'off to work off at  '"
            ]
          },
          "metadata": {},
          "execution_count": 68
        }
      ]
    },
    {
      "cell_type": "code",
      "metadata": {
        "id": "xnV3dibDk4p-"
      },
      "source": [
        "train.loc[16201].selected_text='off to work'"
      ],
      "execution_count": null,
      "outputs": []
    },
    {
      "cell_type": "code",
      "metadata": {
        "colab": {
          "base_uri": "https://localhost:8080/",
          "height": 35
        },
        "id": "H6Y1ChURs1Md",
        "outputId": "800b92ce-e82b-45e7-ccad-521cc5953125"
      },
      "source": [
        "train.loc[25293].text"
      ],
      "execution_count": null,
      "outputs": [
        {
          "output_type": "execute_result",
          "data": {
            "application/vnd.google.colaboratory.intrinsic+json": {
              "type": "string"
            },
            "text/plain": [
              "'grreverytime he gets a new girlfriendim at the bottom of the totem pole'"
            ]
          },
          "metadata": {},
          "execution_count": 70
        }
      ]
    },
    {
      "cell_type": "code",
      "metadata": {
        "id": "tIEA00zotDMe"
      },
      "source": [
        "train.loc[25293].selected_text='at the bottom of the totem pole'"
      ],
      "execution_count": null,
      "outputs": []
    },
    {
      "cell_type": "code",
      "metadata": {
        "id": "a4K9qtGrXfvX"
      },
      "source": [
        "train['spelling']=train.apply(lambda x: wrong_words(x.text,x.selected_text),axis=1)"
      ],
      "execution_count": null,
      "outputs": []
    },
    {
      "cell_type": "code",
      "metadata": {
        "colab": {
          "base_uri": "https://localhost:8080/",
          "height": 49
        },
        "id": "KqnSUnOiXjVI",
        "outputId": "0213ce3e-7656-4cea-f37e-48866233cebd"
      },
      "source": [
        "train[train['spelling'].apply(lambda x: len(x))==1]"
      ],
      "execution_count": null,
      "outputs": [
        {
          "output_type": "execute_result",
          "data": {
            "text/html": [
              "<div>\n",
              "<style scoped>\n",
              "    .dataframe tbody tr th:only-of-type {\n",
              "        vertical-align: middle;\n",
              "    }\n",
              "\n",
              "    .dataframe tbody tr th {\n",
              "        vertical-align: top;\n",
              "    }\n",
              "\n",
              "    .dataframe thead th {\n",
              "        text-align: right;\n",
              "    }\n",
              "</style>\n",
              "<table border=\"1\" class=\"dataframe\">\n",
              "  <thead>\n",
              "    <tr style=\"text-align: right;\">\n",
              "      <th></th>\n",
              "      <th>textID</th>\n",
              "      <th>text</th>\n",
              "      <th>selected_text</th>\n",
              "      <th>sentiment</th>\n",
              "      <th>spelling</th>\n",
              "    </tr>\n",
              "  </thead>\n",
              "  <tbody>\n",
              "  </tbody>\n",
              "</table>\n",
              "</div>"
            ],
            "text/plain": [
              "Empty DataFrame\n",
              "Columns: [textID, text, selected_text, sentiment, spelling]\n",
              "Index: []"
            ]
          },
          "metadata": {},
          "execution_count": 73
        }
      ]
    },
    {
      "cell_type": "code",
      "metadata": {
        "colab": {
          "base_uri": "https://localhost:8080/",
          "height": 49
        },
        "id": "vm_QXR9e4adt",
        "outputId": "868100ae-6116-456f-998f-233f5426dc1b"
      },
      "source": [
        "train.loc[(train['spelling']!='++++') & (train['sentiment']=='positive')]"
      ],
      "execution_count": null,
      "outputs": [
        {
          "output_type": "execute_result",
          "data": {
            "text/html": [
              "<div>\n",
              "<style scoped>\n",
              "    .dataframe tbody tr th:only-of-type {\n",
              "        vertical-align: middle;\n",
              "    }\n",
              "\n",
              "    .dataframe tbody tr th {\n",
              "        vertical-align: top;\n",
              "    }\n",
              "\n",
              "    .dataframe thead th {\n",
              "        text-align: right;\n",
              "    }\n",
              "</style>\n",
              "<table border=\"1\" class=\"dataframe\">\n",
              "  <thead>\n",
              "    <tr style=\"text-align: right;\">\n",
              "      <th></th>\n",
              "      <th>textID</th>\n",
              "      <th>text</th>\n",
              "      <th>selected_text</th>\n",
              "      <th>sentiment</th>\n",
              "      <th>spelling</th>\n",
              "    </tr>\n",
              "  </thead>\n",
              "  <tbody>\n",
              "  </tbody>\n",
              "</table>\n",
              "</div>"
            ],
            "text/plain": [
              "Empty DataFrame\n",
              "Columns: [textID, text, selected_text, sentiment, spelling]\n",
              "Index: []"
            ]
          },
          "metadata": {},
          "execution_count": 74
        }
      ]
    },
    {
      "cell_type": "code",
      "metadata": {
        "colab": {
          "base_uri": "https://localhost:8080/",
          "height": 49
        },
        "id": "p3wYNWjz4eL6",
        "outputId": "ec6addd5-1290-4435-ef00-6ec41410640b"
      },
      "source": [
        "train.loc[(train['spelling']!='++++') & (train['sentiment']=='negative')]"
      ],
      "execution_count": null,
      "outputs": [
        {
          "output_type": "execute_result",
          "data": {
            "text/html": [
              "<div>\n",
              "<style scoped>\n",
              "    .dataframe tbody tr th:only-of-type {\n",
              "        vertical-align: middle;\n",
              "    }\n",
              "\n",
              "    .dataframe tbody tr th {\n",
              "        vertical-align: top;\n",
              "    }\n",
              "\n",
              "    .dataframe thead th {\n",
              "        text-align: right;\n",
              "    }\n",
              "</style>\n",
              "<table border=\"1\" class=\"dataframe\">\n",
              "  <thead>\n",
              "    <tr style=\"text-align: right;\">\n",
              "      <th></th>\n",
              "      <th>textID</th>\n",
              "      <th>text</th>\n",
              "      <th>selected_text</th>\n",
              "      <th>sentiment</th>\n",
              "      <th>spelling</th>\n",
              "    </tr>\n",
              "  </thead>\n",
              "  <tbody>\n",
              "  </tbody>\n",
              "</table>\n",
              "</div>"
            ],
            "text/plain": [
              "Empty DataFrame\n",
              "Columns: [textID, text, selected_text, sentiment, spelling]\n",
              "Index: []"
            ]
          },
          "metadata": {},
          "execution_count": 75
        }
      ]
    },
    {
      "cell_type": "code",
      "metadata": {
        "id": "OAqaX48FHJpH"
      },
      "source": [
        "train.reset_index(inplace=True)"
      ],
      "execution_count": null,
      "outputs": []
    },
    {
      "cell_type": "code",
      "metadata": {
        "id": "BUfAqqYPJ7Wd"
      },
      "source": [
        "train.drop(['index'],inplace=True,axis=1)"
      ],
      "execution_count": null,
      "outputs": []
    },
    {
      "cell_type": "code",
      "metadata": {
        "colab": {
          "base_uri": "https://localhost:8080/",
          "height": 419
        },
        "id": "fGFoIg2zJgVp",
        "outputId": "09b0d29a-6531-4678-ecde-b319c9f82c7a"
      },
      "source": [
        "train"
      ],
      "execution_count": null,
      "outputs": [
        {
          "output_type": "execute_result",
          "data": {
            "text/html": [
              "<div>\n",
              "<style scoped>\n",
              "    .dataframe tbody tr th:only-of-type {\n",
              "        vertical-align: middle;\n",
              "    }\n",
              "\n",
              "    .dataframe tbody tr th {\n",
              "        vertical-align: top;\n",
              "    }\n",
              "\n",
              "    .dataframe thead th {\n",
              "        text-align: right;\n",
              "    }\n",
              "</style>\n",
              "<table border=\"1\" class=\"dataframe\">\n",
              "  <thead>\n",
              "    <tr style=\"text-align: right;\">\n",
              "      <th></th>\n",
              "      <th>textID</th>\n",
              "      <th>text</th>\n",
              "      <th>selected_text</th>\n",
              "      <th>sentiment</th>\n",
              "      <th>spelling</th>\n",
              "    </tr>\n",
              "  </thead>\n",
              "  <tbody>\n",
              "    <tr>\n",
              "      <th>0</th>\n",
              "      <td>cb774db0d1</td>\n",
              "      <td>id have responded if i were going</td>\n",
              "      <td>id have responded if i were going</td>\n",
              "      <td>neutral</td>\n",
              "      <td>++++</td>\n",
              "    </tr>\n",
              "    <tr>\n",
              "      <th>1</th>\n",
              "      <td>549e992a42</td>\n",
              "      <td>sooo sad i will miss you here in san diego</td>\n",
              "      <td>sooo sad</td>\n",
              "      <td>negative</td>\n",
              "      <td>++++</td>\n",
              "    </tr>\n",
              "    <tr>\n",
              "      <th>2</th>\n",
              "      <td>088c60f138</td>\n",
              "      <td>my boss is bullying me</td>\n",
              "      <td>bullying me</td>\n",
              "      <td>negative</td>\n",
              "      <td>++++</td>\n",
              "    </tr>\n",
              "    <tr>\n",
              "      <th>3</th>\n",
              "      <td>9642c003ef</td>\n",
              "      <td>what interview leave me alone</td>\n",
              "      <td>leave me alone</td>\n",
              "      <td>negative</td>\n",
              "      <td>++++</td>\n",
              "    </tr>\n",
              "    <tr>\n",
              "      <th>4</th>\n",
              "      <td>358bd9e861</td>\n",
              "      <td>sons of ABUSE why couldnt they put them on th...</td>\n",
              "      <td>sons of ABUSE</td>\n",
              "      <td>negative</td>\n",
              "      <td>++++</td>\n",
              "    </tr>\n",
              "    <tr>\n",
              "      <th>...</th>\n",
              "      <td>...</td>\n",
              "      <td>...</td>\n",
              "      <td>...</td>\n",
              "      <td>...</td>\n",
              "      <td>...</td>\n",
              "    </tr>\n",
              "    <tr>\n",
              "      <th>27467</th>\n",
              "      <td>4eac33d1c0</td>\n",
              "      <td>wish we could come see u on denver  husband l...</td>\n",
              "      <td>lost</td>\n",
              "      <td>negative</td>\n",
              "      <td>++++</td>\n",
              "    </tr>\n",
              "    <tr>\n",
              "      <th>27468</th>\n",
              "      <td>4f4c4fc327</td>\n",
              "      <td>ive wondered about rake to  the client has ma...</td>\n",
              "      <td>dont force</td>\n",
              "      <td>negative</td>\n",
              "      <td>++++</td>\n",
              "    </tr>\n",
              "    <tr>\n",
              "      <th>27469</th>\n",
              "      <td>f67aae2310</td>\n",
              "      <td>yay good for both of you enjoy the break  you...</td>\n",
              "      <td>yay good for both of you</td>\n",
              "      <td>positive</td>\n",
              "      <td>++++</td>\n",
              "    </tr>\n",
              "    <tr>\n",
              "      <th>27470</th>\n",
              "      <td>ed167662a5</td>\n",
              "      <td>but it was worth it  ABUSE</td>\n",
              "      <td>but it was worth it  ABUSE</td>\n",
              "      <td>positive</td>\n",
              "      <td>++++</td>\n",
              "    </tr>\n",
              "    <tr>\n",
              "      <th>27471</th>\n",
              "      <td>6f7127d9d7</td>\n",
              "      <td>all this flirting going on  the atg smiles ...</td>\n",
              "      <td>all this flirting going on  the atg smiles yay...</td>\n",
              "      <td>neutral</td>\n",
              "      <td>++++</td>\n",
              "    </tr>\n",
              "  </tbody>\n",
              "</table>\n",
              "<p>27472 rows × 5 columns</p>\n",
              "</div>"
            ],
            "text/plain": [
              "           textID  ... spelling\n",
              "0      cb774db0d1  ...     ++++\n",
              "1      549e992a42  ...     ++++\n",
              "2      088c60f138  ...     ++++\n",
              "3      9642c003ef  ...     ++++\n",
              "4      358bd9e861  ...     ++++\n",
              "...           ...  ...      ...\n",
              "27467  4eac33d1c0  ...     ++++\n",
              "27468  4f4c4fc327  ...     ++++\n",
              "27469  f67aae2310  ...     ++++\n",
              "27470  ed167662a5  ...     ++++\n",
              "27471  6f7127d9d7  ...     ++++\n",
              "\n",
              "[27472 rows x 5 columns]"
            ]
          },
          "metadata": {},
          "execution_count": 85
        }
      ]
    },
    {
      "cell_type": "code",
      "metadata": {
        "colab": {
          "base_uri": "https://localhost:8080/"
        },
        "id": "x4_RQPAhHLn-",
        "outputId": "af0e5d80-72dd-4fbd-86a6-6da25008779c"
      },
      "source": [
        "train.loc[8727]"
      ],
      "execution_count": null,
      "outputs": [
        {
          "output_type": "execute_result",
          "data": {
            "text/plain": [
              "textID                                                  12f21c8f19\n",
              "text              star wars  is ABUSE boo i wanna do your job h...\n",
              "selected_text                                                     \n",
              "sentiment                                                 positive\n",
              "spelling                                                      ++++\n",
              "Name: 8727, dtype: object"
            ]
          },
          "metadata": {},
          "execution_count": 86
        }
      ]
    },
    {
      "cell_type": "code",
      "metadata": {
        "colab": {
          "base_uri": "https://localhost:8080/"
        },
        "id": "HQ43fekPHMUL",
        "outputId": "e2338531-a726-4b1d-8661-3c6b7bc34252"
      },
      "source": [
        "train.loc[25996]"
      ],
      "execution_count": null,
      "outputs": [
        {
          "output_type": "execute_result",
          "data": {
            "text/plain": [
              "textID           0b3fe0ca78\n",
              "text                       \n",
              "selected_text              \n",
              "sentiment           neutral\n",
              "spelling               ++++\n",
              "Name: 25996, dtype: object"
            ]
          },
          "metadata": {},
          "execution_count": 88
        }
      ]
    },
    {
      "cell_type": "code",
      "metadata": {
        "id": "wdvpA-zsHOxi"
      },
      "source": [
        "train.drop(8727,inplace=True)"
      ],
      "execution_count": null,
      "outputs": []
    },
    {
      "cell_type": "code",
      "metadata": {
        "id": "bsVXZD5wHVRt"
      },
      "source": [
        "train.drop(25996,inplace=True)"
      ],
      "execution_count": null,
      "outputs": []
    },
    {
      "cell_type": "code",
      "metadata": {
        "id": "ZJ6mSNfPHawT"
      },
      "source": [
        "train.reset_index(inplace=True)"
      ],
      "execution_count": null,
      "outputs": []
    },
    {
      "cell_type": "code",
      "metadata": {
        "colab": {
          "base_uri": "https://localhost:8080/",
          "height": 419
        },
        "id": "JiYBZjNnKUvD",
        "outputId": "111c244a-7912-4ced-8aef-8713bccf825b"
      },
      "source": [
        "train"
      ],
      "execution_count": null,
      "outputs": [
        {
          "output_type": "execute_result",
          "data": {
            "text/html": [
              "<div>\n",
              "<style scoped>\n",
              "    .dataframe tbody tr th:only-of-type {\n",
              "        vertical-align: middle;\n",
              "    }\n",
              "\n",
              "    .dataframe tbody tr th {\n",
              "        vertical-align: top;\n",
              "    }\n",
              "\n",
              "    .dataframe thead th {\n",
              "        text-align: right;\n",
              "    }\n",
              "</style>\n",
              "<table border=\"1\" class=\"dataframe\">\n",
              "  <thead>\n",
              "    <tr style=\"text-align: right;\">\n",
              "      <th></th>\n",
              "      <th>index</th>\n",
              "      <th>textID</th>\n",
              "      <th>text</th>\n",
              "      <th>selected_text</th>\n",
              "      <th>sentiment</th>\n",
              "      <th>spelling</th>\n",
              "    </tr>\n",
              "  </thead>\n",
              "  <tbody>\n",
              "    <tr>\n",
              "      <th>0</th>\n",
              "      <td>0</td>\n",
              "      <td>cb774db0d1</td>\n",
              "      <td>id have responded if i were going</td>\n",
              "      <td>id have responded if i were going</td>\n",
              "      <td>neutral</td>\n",
              "      <td>++++</td>\n",
              "    </tr>\n",
              "    <tr>\n",
              "      <th>1</th>\n",
              "      <td>1</td>\n",
              "      <td>549e992a42</td>\n",
              "      <td>sooo sad i will miss you here in san diego</td>\n",
              "      <td>sooo sad</td>\n",
              "      <td>negative</td>\n",
              "      <td>++++</td>\n",
              "    </tr>\n",
              "    <tr>\n",
              "      <th>2</th>\n",
              "      <td>2</td>\n",
              "      <td>088c60f138</td>\n",
              "      <td>my boss is bullying me</td>\n",
              "      <td>bullying me</td>\n",
              "      <td>negative</td>\n",
              "      <td>++++</td>\n",
              "    </tr>\n",
              "    <tr>\n",
              "      <th>3</th>\n",
              "      <td>3</td>\n",
              "      <td>9642c003ef</td>\n",
              "      <td>what interview leave me alone</td>\n",
              "      <td>leave me alone</td>\n",
              "      <td>negative</td>\n",
              "      <td>++++</td>\n",
              "    </tr>\n",
              "    <tr>\n",
              "      <th>4</th>\n",
              "      <td>4</td>\n",
              "      <td>358bd9e861</td>\n",
              "      <td>sons of ABUSE why couldnt they put them on th...</td>\n",
              "      <td>sons of ABUSE</td>\n",
              "      <td>negative</td>\n",
              "      <td>++++</td>\n",
              "    </tr>\n",
              "    <tr>\n",
              "      <th>...</th>\n",
              "      <td>...</td>\n",
              "      <td>...</td>\n",
              "      <td>...</td>\n",
              "      <td>...</td>\n",
              "      <td>...</td>\n",
              "      <td>...</td>\n",
              "    </tr>\n",
              "    <tr>\n",
              "      <th>27465</th>\n",
              "      <td>27467</td>\n",
              "      <td>4eac33d1c0</td>\n",
              "      <td>wish we could come see u on denver  husband l...</td>\n",
              "      <td>lost</td>\n",
              "      <td>negative</td>\n",
              "      <td>++++</td>\n",
              "    </tr>\n",
              "    <tr>\n",
              "      <th>27466</th>\n",
              "      <td>27468</td>\n",
              "      <td>4f4c4fc327</td>\n",
              "      <td>ive wondered about rake to  the client has ma...</td>\n",
              "      <td>dont force</td>\n",
              "      <td>negative</td>\n",
              "      <td>++++</td>\n",
              "    </tr>\n",
              "    <tr>\n",
              "      <th>27467</th>\n",
              "      <td>27469</td>\n",
              "      <td>f67aae2310</td>\n",
              "      <td>yay good for both of you enjoy the break  you...</td>\n",
              "      <td>yay good for both of you</td>\n",
              "      <td>positive</td>\n",
              "      <td>++++</td>\n",
              "    </tr>\n",
              "    <tr>\n",
              "      <th>27468</th>\n",
              "      <td>27470</td>\n",
              "      <td>ed167662a5</td>\n",
              "      <td>but it was worth it  ABUSE</td>\n",
              "      <td>but it was worth it  ABUSE</td>\n",
              "      <td>positive</td>\n",
              "      <td>++++</td>\n",
              "    </tr>\n",
              "    <tr>\n",
              "      <th>27469</th>\n",
              "      <td>27471</td>\n",
              "      <td>6f7127d9d7</td>\n",
              "      <td>all this flirting going on  the atg smiles ...</td>\n",
              "      <td>all this flirting going on  the atg smiles yay...</td>\n",
              "      <td>neutral</td>\n",
              "      <td>++++</td>\n",
              "    </tr>\n",
              "  </tbody>\n",
              "</table>\n",
              "<p>27470 rows × 6 columns</p>\n",
              "</div>"
            ],
            "text/plain": [
              "       index      textID  ... sentiment spelling\n",
              "0          0  cb774db0d1  ...   neutral     ++++\n",
              "1          1  549e992a42  ...  negative     ++++\n",
              "2          2  088c60f138  ...  negative     ++++\n",
              "3          3  9642c003ef  ...  negative     ++++\n",
              "4          4  358bd9e861  ...  negative     ++++\n",
              "...      ...         ...  ...       ...      ...\n",
              "27465  27467  4eac33d1c0  ...  negative     ++++\n",
              "27466  27468  4f4c4fc327  ...  negative     ++++\n",
              "27467  27469  f67aae2310  ...  positive     ++++\n",
              "27468  27470  ed167662a5  ...  positive     ++++\n",
              "27469  27471  6f7127d9d7  ...   neutral     ++++\n",
              "\n",
              "[27470 rows x 6 columns]"
            ]
          },
          "metadata": {},
          "execution_count": 92
        }
      ]
    },
    {
      "cell_type": "code",
      "metadata": {
        "id": "BEy7XmoDKX1c"
      },
      "source": [
        "train.drop(['index'],inplace=True,axis=1)"
      ],
      "execution_count": null,
      "outputs": []
    },
    {
      "cell_type": "code",
      "metadata": {
        "colab": {
          "base_uri": "https://localhost:8080/",
          "height": 419
        },
        "id": "xcPaxuvIKZmO",
        "outputId": "087a2298-953c-40c1-9b81-f27adb4a5bb4"
      },
      "source": [
        "train"
      ],
      "execution_count": null,
      "outputs": [
        {
          "output_type": "execute_result",
          "data": {
            "text/html": [
              "<div>\n",
              "<style scoped>\n",
              "    .dataframe tbody tr th:only-of-type {\n",
              "        vertical-align: middle;\n",
              "    }\n",
              "\n",
              "    .dataframe tbody tr th {\n",
              "        vertical-align: top;\n",
              "    }\n",
              "\n",
              "    .dataframe thead th {\n",
              "        text-align: right;\n",
              "    }\n",
              "</style>\n",
              "<table border=\"1\" class=\"dataframe\">\n",
              "  <thead>\n",
              "    <tr style=\"text-align: right;\">\n",
              "      <th></th>\n",
              "      <th>textID</th>\n",
              "      <th>text</th>\n",
              "      <th>selected_text</th>\n",
              "      <th>sentiment</th>\n",
              "      <th>spelling</th>\n",
              "    </tr>\n",
              "  </thead>\n",
              "  <tbody>\n",
              "    <tr>\n",
              "      <th>0</th>\n",
              "      <td>cb774db0d1</td>\n",
              "      <td>id have responded if i were going</td>\n",
              "      <td>id have responded if i were going</td>\n",
              "      <td>neutral</td>\n",
              "      <td>++++</td>\n",
              "    </tr>\n",
              "    <tr>\n",
              "      <th>1</th>\n",
              "      <td>549e992a42</td>\n",
              "      <td>sooo sad i will miss you here in san diego</td>\n",
              "      <td>sooo sad</td>\n",
              "      <td>negative</td>\n",
              "      <td>++++</td>\n",
              "    </tr>\n",
              "    <tr>\n",
              "      <th>2</th>\n",
              "      <td>088c60f138</td>\n",
              "      <td>my boss is bullying me</td>\n",
              "      <td>bullying me</td>\n",
              "      <td>negative</td>\n",
              "      <td>++++</td>\n",
              "    </tr>\n",
              "    <tr>\n",
              "      <th>3</th>\n",
              "      <td>9642c003ef</td>\n",
              "      <td>what interview leave me alone</td>\n",
              "      <td>leave me alone</td>\n",
              "      <td>negative</td>\n",
              "      <td>++++</td>\n",
              "    </tr>\n",
              "    <tr>\n",
              "      <th>4</th>\n",
              "      <td>358bd9e861</td>\n",
              "      <td>sons of ABUSE why couldnt they put them on th...</td>\n",
              "      <td>sons of ABUSE</td>\n",
              "      <td>negative</td>\n",
              "      <td>++++</td>\n",
              "    </tr>\n",
              "    <tr>\n",
              "      <th>...</th>\n",
              "      <td>...</td>\n",
              "      <td>...</td>\n",
              "      <td>...</td>\n",
              "      <td>...</td>\n",
              "      <td>...</td>\n",
              "    </tr>\n",
              "    <tr>\n",
              "      <th>27465</th>\n",
              "      <td>4eac33d1c0</td>\n",
              "      <td>wish we could come see u on denver  husband l...</td>\n",
              "      <td>lost</td>\n",
              "      <td>negative</td>\n",
              "      <td>++++</td>\n",
              "    </tr>\n",
              "    <tr>\n",
              "      <th>27466</th>\n",
              "      <td>4f4c4fc327</td>\n",
              "      <td>ive wondered about rake to  the client has ma...</td>\n",
              "      <td>dont force</td>\n",
              "      <td>negative</td>\n",
              "      <td>++++</td>\n",
              "    </tr>\n",
              "    <tr>\n",
              "      <th>27467</th>\n",
              "      <td>f67aae2310</td>\n",
              "      <td>yay good for both of you enjoy the break  you...</td>\n",
              "      <td>yay good for both of you</td>\n",
              "      <td>positive</td>\n",
              "      <td>++++</td>\n",
              "    </tr>\n",
              "    <tr>\n",
              "      <th>27468</th>\n",
              "      <td>ed167662a5</td>\n",
              "      <td>but it was worth it  ABUSE</td>\n",
              "      <td>but it was worth it  ABUSE</td>\n",
              "      <td>positive</td>\n",
              "      <td>++++</td>\n",
              "    </tr>\n",
              "    <tr>\n",
              "      <th>27469</th>\n",
              "      <td>6f7127d9d7</td>\n",
              "      <td>all this flirting going on  the atg smiles ...</td>\n",
              "      <td>all this flirting going on  the atg smiles yay...</td>\n",
              "      <td>neutral</td>\n",
              "      <td>++++</td>\n",
              "    </tr>\n",
              "  </tbody>\n",
              "</table>\n",
              "<p>27470 rows × 5 columns</p>\n",
              "</div>"
            ],
            "text/plain": [
              "           textID  ... spelling\n",
              "0      cb774db0d1  ...     ++++\n",
              "1      549e992a42  ...     ++++\n",
              "2      088c60f138  ...     ++++\n",
              "3      9642c003ef  ...     ++++\n",
              "4      358bd9e861  ...     ++++\n",
              "...           ...  ...      ...\n",
              "27465  4eac33d1c0  ...     ++++\n",
              "27466  4f4c4fc327  ...     ++++\n",
              "27467  f67aae2310  ...     ++++\n",
              "27468  ed167662a5  ...     ++++\n",
              "27469  6f7127d9d7  ...     ++++\n",
              "\n",
              "[27470 rows x 5 columns]"
            ]
          },
          "metadata": {},
          "execution_count": 94
        }
      ]
    },
    {
      "cell_type": "code",
      "metadata": {
        "id": "czgcTHKE4iZT"
      },
      "source": [
        "with open('/content/drive//My Drive/Tweet Sentiment Extraction/preprocessed_train.pkl','wb') as f:\n",
        "     pickle.dump(train,f)"
      ],
      "execution_count": null,
      "outputs": []
    },
    {
      "cell_type": "code",
      "metadata": {
        "id": "P1plJ0eC5aC1"
      },
      "source": [
        "with open('/content/drive//My Drive/Tweet Sentiment Extraction/preprocessed_test.pkl','wb') as f:\n",
        "     pickle.dump(test,f)"
      ],
      "execution_count": null,
      "outputs": []
    },
    {
      "cell_type": "code",
      "metadata": {
        "id": "GLw2tlkV9WIR"
      },
      "source": [
        "with open('/content/drive//My Drive/Tweet Sentiment Extraction/preprocessed_train.pkl','rb') as f:\n",
        "     train=pickle.load(f)"
      ],
      "execution_count": null,
      "outputs": []
    },
    {
      "cell_type": "code",
      "metadata": {
        "id": "uhczcsoP6H2L"
      },
      "source": [
        "#https://www.w3schools.com/python/ref_string_index.asp\n",
        "def start_index(x):\n",
        "    text=x[0]\n",
        "    selected=x[1]\n",
        "    text=text.split()\n",
        "    selected=selected.split()\n",
        "    word=selected[0]\n",
        "    index=text.index(word)\n",
        "    return index"
      ],
      "execution_count": null,
      "outputs": []
    },
    {
      "cell_type": "code",
      "metadata": {
        "id": "O-oY-GMe6tJM"
      },
      "source": [
        "train['start_index']=train[['text','selected_text']].apply(lambda x: start_index(x),axis=1)"
      ],
      "execution_count": null,
      "outputs": []
    },
    {
      "cell_type": "code",
      "metadata": {
        "id": "0Bn7LKqP6Ww8"
      },
      "source": [
        "#https://www.w3schools.com/python/ref_string_index.asp\n",
        "def end_index(x):\n",
        "    text=x[0]\n",
        "    selected=x[1]\n",
        "    start_index=x[2] \n",
        "    text=text.split()\n",
        "    selected= selected.split()\n",
        "    word=selected[-1]\n",
        "    try:\n",
        "        index=text.index(word,start_index)\n",
        "    except:\n",
        "        index=text.index(word)\n",
        "    return index"
      ],
      "execution_count": null,
      "outputs": []
    },
    {
      "cell_type": "code",
      "metadata": {
        "id": "rZYY5uI36x05"
      },
      "source": [
        "train['end_index']=train[['text','selected_text','start_index']].apply(lambda x: end_index(x),axis=1)"
      ],
      "execution_count": null,
      "outputs": []
    },
    {
      "cell_type": "code",
      "metadata": {
        "colab": {
          "base_uri": "https://localhost:8080/",
          "height": 419
        },
        "id": "2F1G3SV5M-q1",
        "outputId": "49b3084b-a7ae-474d-d7dd-714daf65bfc7"
      },
      "source": [
        "train"
      ],
      "execution_count": null,
      "outputs": [
        {
          "output_type": "execute_result",
          "data": {
            "text/html": [
              "<div>\n",
              "<style scoped>\n",
              "    .dataframe tbody tr th:only-of-type {\n",
              "        vertical-align: middle;\n",
              "    }\n",
              "\n",
              "    .dataframe tbody tr th {\n",
              "        vertical-align: top;\n",
              "    }\n",
              "\n",
              "    .dataframe thead th {\n",
              "        text-align: right;\n",
              "    }\n",
              "</style>\n",
              "<table border=\"1\" class=\"dataframe\">\n",
              "  <thead>\n",
              "    <tr style=\"text-align: right;\">\n",
              "      <th></th>\n",
              "      <th>textID</th>\n",
              "      <th>text</th>\n",
              "      <th>selected_text</th>\n",
              "      <th>sentiment</th>\n",
              "      <th>spelling</th>\n",
              "      <th>start_index</th>\n",
              "      <th>end_index</th>\n",
              "    </tr>\n",
              "  </thead>\n",
              "  <tbody>\n",
              "    <tr>\n",
              "      <th>0</th>\n",
              "      <td>cb774db0d1</td>\n",
              "      <td>id have responded if i were going</td>\n",
              "      <td>id have responded if i were going</td>\n",
              "      <td>neutral</td>\n",
              "      <td>++++</td>\n",
              "      <td>0</td>\n",
              "      <td>6</td>\n",
              "    </tr>\n",
              "    <tr>\n",
              "      <th>1</th>\n",
              "      <td>549e992a42</td>\n",
              "      <td>sooo sad i will miss you here in san diego</td>\n",
              "      <td>sooo sad</td>\n",
              "      <td>negative</td>\n",
              "      <td>++++</td>\n",
              "      <td>0</td>\n",
              "      <td>1</td>\n",
              "    </tr>\n",
              "    <tr>\n",
              "      <th>2</th>\n",
              "      <td>088c60f138</td>\n",
              "      <td>my boss is bullying me</td>\n",
              "      <td>bullying me</td>\n",
              "      <td>negative</td>\n",
              "      <td>++++</td>\n",
              "      <td>3</td>\n",
              "      <td>4</td>\n",
              "    </tr>\n",
              "    <tr>\n",
              "      <th>3</th>\n",
              "      <td>9642c003ef</td>\n",
              "      <td>what interview leave me alone</td>\n",
              "      <td>leave me alone</td>\n",
              "      <td>negative</td>\n",
              "      <td>++++</td>\n",
              "      <td>2</td>\n",
              "      <td>4</td>\n",
              "    </tr>\n",
              "    <tr>\n",
              "      <th>4</th>\n",
              "      <td>358bd9e861</td>\n",
              "      <td>sons of ABUSE why couldnt they put them on th...</td>\n",
              "      <td>sons of ABUSE</td>\n",
              "      <td>negative</td>\n",
              "      <td>++++</td>\n",
              "      <td>0</td>\n",
              "      <td>2</td>\n",
              "    </tr>\n",
              "    <tr>\n",
              "      <th>...</th>\n",
              "      <td>...</td>\n",
              "      <td>...</td>\n",
              "      <td>...</td>\n",
              "      <td>...</td>\n",
              "      <td>...</td>\n",
              "      <td>...</td>\n",
              "      <td>...</td>\n",
              "    </tr>\n",
              "    <tr>\n",
              "      <th>27465</th>\n",
              "      <td>4eac33d1c0</td>\n",
              "      <td>wish we could come see u on denver  husband l...</td>\n",
              "      <td>lost</td>\n",
              "      <td>negative</td>\n",
              "      <td>++++</td>\n",
              "      <td>9</td>\n",
              "      <td>9</td>\n",
              "    </tr>\n",
              "    <tr>\n",
              "      <th>27466</th>\n",
              "      <td>4f4c4fc327</td>\n",
              "      <td>ive wondered about rake to  the client has ma...</td>\n",
              "      <td>dont force</td>\n",
              "      <td>negative</td>\n",
              "      <td>++++</td>\n",
              "      <td>13</td>\n",
              "      <td>14</td>\n",
              "    </tr>\n",
              "    <tr>\n",
              "      <th>27467</th>\n",
              "      <td>f67aae2310</td>\n",
              "      <td>yay good for both of you enjoy the break  you...</td>\n",
              "      <td>yay good for both of you</td>\n",
              "      <td>positive</td>\n",
              "      <td>++++</td>\n",
              "      <td>0</td>\n",
              "      <td>5</td>\n",
              "    </tr>\n",
              "    <tr>\n",
              "      <th>27468</th>\n",
              "      <td>ed167662a5</td>\n",
              "      <td>but it was worth it  ABUSE</td>\n",
              "      <td>but it was worth it  ABUSE</td>\n",
              "      <td>positive</td>\n",
              "      <td>++++</td>\n",
              "      <td>0</td>\n",
              "      <td>5</td>\n",
              "    </tr>\n",
              "    <tr>\n",
              "      <th>27469</th>\n",
              "      <td>6f7127d9d7</td>\n",
              "      <td>all this flirting going on  the atg smiles ...</td>\n",
              "      <td>all this flirting going on  the atg smiles yay...</td>\n",
              "      <td>neutral</td>\n",
              "      <td>++++</td>\n",
              "      <td>0</td>\n",
              "      <td>9</td>\n",
              "    </tr>\n",
              "  </tbody>\n",
              "</table>\n",
              "<p>27470 rows × 7 columns</p>\n",
              "</div>"
            ],
            "text/plain": [
              "           textID  ... end_index\n",
              "0      cb774db0d1  ...         6\n",
              "1      549e992a42  ...         1\n",
              "2      088c60f138  ...         4\n",
              "3      9642c003ef  ...         4\n",
              "4      358bd9e861  ...         2\n",
              "...           ...  ...       ...\n",
              "27465  4eac33d1c0  ...         9\n",
              "27466  4f4c4fc327  ...        14\n",
              "27467  f67aae2310  ...         5\n",
              "27468  ed167662a5  ...         5\n",
              "27469  6f7127d9d7  ...         9\n",
              "\n",
              "[27470 rows x 7 columns]"
            ]
          },
          "metadata": {},
          "execution_count": 125
        }
      ]
    },
    {
      "cell_type": "code",
      "metadata": {
        "colab": {
          "base_uri": "https://localhost:8080/",
          "height": 419
        },
        "id": "UiBJyDpGR6Zb",
        "outputId": "26b4f079-2cc1-485a-effb-6cdf88dcadca"
      },
      "source": [
        "train[train.start_index > train.end_index]"
      ],
      "execution_count": null,
      "outputs": [
        {
          "output_type": "execute_result",
          "data": {
            "text/html": [
              "<div>\n",
              "<style scoped>\n",
              "    .dataframe tbody tr th:only-of-type {\n",
              "        vertical-align: middle;\n",
              "    }\n",
              "\n",
              "    .dataframe tbody tr th {\n",
              "        vertical-align: top;\n",
              "    }\n",
              "\n",
              "    .dataframe thead th {\n",
              "        text-align: right;\n",
              "    }\n",
              "</style>\n",
              "<table border=\"1\" class=\"dataframe\">\n",
              "  <thead>\n",
              "    <tr style=\"text-align: right;\">\n",
              "      <th></th>\n",
              "      <th>textID</th>\n",
              "      <th>text</th>\n",
              "      <th>selected_text</th>\n",
              "      <th>sentiment</th>\n",
              "      <th>spelling</th>\n",
              "      <th>start_index</th>\n",
              "      <th>end_index</th>\n",
              "    </tr>\n",
              "  </thead>\n",
              "  <tbody>\n",
              "    <tr>\n",
              "      <th>708</th>\n",
              "      <td>48096285e5</td>\n",
              "      <td>yeah im okay been icing and ace bandage and ...</td>\n",
              "      <td>lol and</td>\n",
              "      <td>positive</td>\n",
              "      <td>++++</td>\n",
              "      <td>15</td>\n",
              "      <td>5</td>\n",
              "    </tr>\n",
              "    <tr>\n",
              "      <th>1104</th>\n",
              "      <td>5419aaf31e</td>\n",
              "      <td>packing up and leaving inlaws house heading ho...</td>\n",
              "      <td>nice sweet</td>\n",
              "      <td>positive</td>\n",
              "      <td>++++</td>\n",
              "      <td>12</td>\n",
              "      <td>8</td>\n",
              "    </tr>\n",
              "    <tr>\n",
              "      <th>1279</th>\n",
              "      <td>adac9ee2e1</td>\n",
              "      <td>i just started watching   rock too borrowed s...</td>\n",
              "      <td>so too</td>\n",
              "      <td>positive</td>\n",
              "      <td>++++</td>\n",
              "      <td>12</td>\n",
              "      <td>5</td>\n",
              "    </tr>\n",
              "    <tr>\n",
              "      <th>1361</th>\n",
              "      <td>4eec486ad7</td>\n",
              "      <td>hey i loved acs but i had to see it online is...</td>\n",
              "      <td>i loved acs but i had to see it online is not ...</td>\n",
              "      <td>positive</td>\n",
              "      <td>++++</td>\n",
              "      <td>1</td>\n",
              "      <td>0</td>\n",
              "    </tr>\n",
              "    <tr>\n",
              "      <th>1374</th>\n",
              "      <td>eadba04b8a</td>\n",
              "      <td>that would mean me babe but ABUSE it my name...</td>\n",
              "      <td>i cool</td>\n",
              "      <td>positive</td>\n",
              "      <td>++++</td>\n",
              "      <td>14</td>\n",
              "      <td>13</td>\n",
              "    </tr>\n",
              "    <tr>\n",
              "      <th>...</th>\n",
              "      <td>...</td>\n",
              "      <td>...</td>\n",
              "      <td>...</td>\n",
              "      <td>...</td>\n",
              "      <td>...</td>\n",
              "      <td>...</td>\n",
              "      <td>...</td>\n",
              "    </tr>\n",
              "    <tr>\n",
              "      <th>25276</th>\n",
              "      <td>2e3afc2394</td>\n",
              "      <td>gutted i miss that the one night i try   lea...</td>\n",
              "      <td>were the</td>\n",
              "      <td>negative</td>\n",
              "      <td>++++</td>\n",
              "      <td>14</td>\n",
              "      <td>4</td>\n",
              "    </tr>\n",
              "    <tr>\n",
              "      <th>25997</th>\n",
              "      <td>6417912691</td>\n",
              "      <td>happy hug your mom day love you mom</td>\n",
              "      <td>love your</td>\n",
              "      <td>positive</td>\n",
              "      <td>++++</td>\n",
              "      <td>5</td>\n",
              "      <td>2</td>\n",
              "    </tr>\n",
              "    <tr>\n",
              "      <th>26150</th>\n",
              "      <td>e137ff5246</td>\n",
              "      <td>i know i shouldnt be saying this but ABUSE iti...</td>\n",
              "      <td>but ABUSE i</td>\n",
              "      <td>negative</td>\n",
              "      <td>++++</td>\n",
              "      <td>7</td>\n",
              "      <td>0</td>\n",
              "    </tr>\n",
              "    <tr>\n",
              "      <th>26347</th>\n",
              "      <td>aa3b4edd5e</td>\n",
              "      <td>waiting for my momma so i can go to chase and ...</td>\n",
              "      <td>miss what</td>\n",
              "      <td>negative</td>\n",
              "      <td>++++</td>\n",
              "      <td>21</td>\n",
              "      <td>12</td>\n",
              "    </tr>\n",
              "    <tr>\n",
              "      <th>26522</th>\n",
              "      <td>2fd0de39b2</td>\n",
              "      <td>oh the noon i dont know if i can make that on...</td>\n",
              "      <td>i dont know if i can make that noon</td>\n",
              "      <td>negative</td>\n",
              "      <td>++++</td>\n",
              "      <td>3</td>\n",
              "      <td>2</td>\n",
              "    </tr>\n",
              "  </tbody>\n",
              "</table>\n",
              "<p>89 rows × 7 columns</p>\n",
              "</div>"
            ],
            "text/plain": [
              "           textID  ... end_index\n",
              "708    48096285e5  ...         5\n",
              "1104   5419aaf31e  ...         8\n",
              "1279   adac9ee2e1  ...         5\n",
              "1361   4eec486ad7  ...         0\n",
              "1374   eadba04b8a  ...        13\n",
              "...           ...  ...       ...\n",
              "25276  2e3afc2394  ...         4\n",
              "25997  6417912691  ...         2\n",
              "26150  e137ff5246  ...         0\n",
              "26347  aa3b4edd5e  ...        12\n",
              "26522  2fd0de39b2  ...         2\n",
              "\n",
              "[89 rows x 7 columns]"
            ]
          },
          "metadata": {},
          "execution_count": 126
        }
      ]
    },
    {
      "cell_type": "code",
      "metadata": {
        "id": "nGPMUjnHSZwu"
      },
      "source": [
        "train=train[train.start_index <= train.end_index]"
      ],
      "execution_count": null,
      "outputs": []
    },
    {
      "cell_type": "code",
      "metadata": {
        "colab": {
          "base_uri": "https://localhost:8080/",
          "height": 49
        },
        "id": "uBjLWLsMSjo-",
        "outputId": "5606bb91-eafe-4ad9-ab95-3f0e5ca50edd"
      },
      "source": [
        "train[train.start_index > train.end_index]"
      ],
      "execution_count": null,
      "outputs": [
        {
          "output_type": "execute_result",
          "data": {
            "text/html": [
              "<div>\n",
              "<style scoped>\n",
              "    .dataframe tbody tr th:only-of-type {\n",
              "        vertical-align: middle;\n",
              "    }\n",
              "\n",
              "    .dataframe tbody tr th {\n",
              "        vertical-align: top;\n",
              "    }\n",
              "\n",
              "    .dataframe thead th {\n",
              "        text-align: right;\n",
              "    }\n",
              "</style>\n",
              "<table border=\"1\" class=\"dataframe\">\n",
              "  <thead>\n",
              "    <tr style=\"text-align: right;\">\n",
              "      <th></th>\n",
              "      <th>textID</th>\n",
              "      <th>text</th>\n",
              "      <th>selected_text</th>\n",
              "      <th>sentiment</th>\n",
              "      <th>spelling</th>\n",
              "      <th>start_index</th>\n",
              "      <th>end_index</th>\n",
              "    </tr>\n",
              "  </thead>\n",
              "  <tbody>\n",
              "  </tbody>\n",
              "</table>\n",
              "</div>"
            ],
            "text/plain": [
              "Empty DataFrame\n",
              "Columns: [textID, text, selected_text, sentiment, spelling, start_index, end_index]\n",
              "Index: []"
            ]
          },
          "metadata": {},
          "execution_count": 128
        }
      ]
    },
    {
      "cell_type": "code",
      "metadata": {
        "id": "Sa2oX2ktSsmB"
      },
      "source": [
        "train.reset_index(inplace=True)"
      ],
      "execution_count": null,
      "outputs": []
    },
    {
      "cell_type": "code",
      "metadata": {
        "id": "AdXutzAbSx-H"
      },
      "source": [
        "train.drop(['index'],inplace=True,axis=1)"
      ],
      "execution_count": null,
      "outputs": []
    },
    {
      "cell_type": "code",
      "metadata": {
        "colab": {
          "base_uri": "https://localhost:8080/"
        },
        "id": "WDV-1R9mS4SZ",
        "outputId": "ceef9cea-c40a-440e-a22c-ac6da2b5b4c8"
      },
      "source": [
        "train.shape"
      ],
      "execution_count": null,
      "outputs": [
        {
          "output_type": "execute_result",
          "data": {
            "text/plain": [
              "(27381, 7)"
            ]
          },
          "metadata": {},
          "execution_count": 131
        }
      ]
    },
    {
      "cell_type": "code",
      "metadata": {
        "colab": {
          "base_uri": "https://localhost:8080/",
          "height": 419
        },
        "id": "RXtU1dSDTAvb",
        "outputId": "256b246f-7e17-4c8e-cd4e-11921c5b9fca"
      },
      "source": [
        "train"
      ],
      "execution_count": null,
      "outputs": [
        {
          "output_type": "execute_result",
          "data": {
            "text/html": [
              "<div>\n",
              "<style scoped>\n",
              "    .dataframe tbody tr th:only-of-type {\n",
              "        vertical-align: middle;\n",
              "    }\n",
              "\n",
              "    .dataframe tbody tr th {\n",
              "        vertical-align: top;\n",
              "    }\n",
              "\n",
              "    .dataframe thead th {\n",
              "        text-align: right;\n",
              "    }\n",
              "</style>\n",
              "<table border=\"1\" class=\"dataframe\">\n",
              "  <thead>\n",
              "    <tr style=\"text-align: right;\">\n",
              "      <th></th>\n",
              "      <th>textID</th>\n",
              "      <th>text</th>\n",
              "      <th>selected_text</th>\n",
              "      <th>sentiment</th>\n",
              "      <th>spelling</th>\n",
              "      <th>start_index</th>\n",
              "      <th>end_index</th>\n",
              "    </tr>\n",
              "  </thead>\n",
              "  <tbody>\n",
              "    <tr>\n",
              "      <th>0</th>\n",
              "      <td>cb774db0d1</td>\n",
              "      <td>id have responded if i were going</td>\n",
              "      <td>id have responded if i were going</td>\n",
              "      <td>neutral</td>\n",
              "      <td>++++</td>\n",
              "      <td>0</td>\n",
              "      <td>6</td>\n",
              "    </tr>\n",
              "    <tr>\n",
              "      <th>1</th>\n",
              "      <td>549e992a42</td>\n",
              "      <td>sooo sad i will miss you here in san diego</td>\n",
              "      <td>sooo sad</td>\n",
              "      <td>negative</td>\n",
              "      <td>++++</td>\n",
              "      <td>0</td>\n",
              "      <td>1</td>\n",
              "    </tr>\n",
              "    <tr>\n",
              "      <th>2</th>\n",
              "      <td>088c60f138</td>\n",
              "      <td>my boss is bullying me</td>\n",
              "      <td>bullying me</td>\n",
              "      <td>negative</td>\n",
              "      <td>++++</td>\n",
              "      <td>3</td>\n",
              "      <td>4</td>\n",
              "    </tr>\n",
              "    <tr>\n",
              "      <th>3</th>\n",
              "      <td>9642c003ef</td>\n",
              "      <td>what interview leave me alone</td>\n",
              "      <td>leave me alone</td>\n",
              "      <td>negative</td>\n",
              "      <td>++++</td>\n",
              "      <td>2</td>\n",
              "      <td>4</td>\n",
              "    </tr>\n",
              "    <tr>\n",
              "      <th>4</th>\n",
              "      <td>358bd9e861</td>\n",
              "      <td>sons of ABUSE why couldnt they put them on th...</td>\n",
              "      <td>sons of ABUSE</td>\n",
              "      <td>negative</td>\n",
              "      <td>++++</td>\n",
              "      <td>0</td>\n",
              "      <td>2</td>\n",
              "    </tr>\n",
              "    <tr>\n",
              "      <th>...</th>\n",
              "      <td>...</td>\n",
              "      <td>...</td>\n",
              "      <td>...</td>\n",
              "      <td>...</td>\n",
              "      <td>...</td>\n",
              "      <td>...</td>\n",
              "      <td>...</td>\n",
              "    </tr>\n",
              "    <tr>\n",
              "      <th>27376</th>\n",
              "      <td>4eac33d1c0</td>\n",
              "      <td>wish we could come see u on denver  husband l...</td>\n",
              "      <td>lost</td>\n",
              "      <td>negative</td>\n",
              "      <td>++++</td>\n",
              "      <td>9</td>\n",
              "      <td>9</td>\n",
              "    </tr>\n",
              "    <tr>\n",
              "      <th>27377</th>\n",
              "      <td>4f4c4fc327</td>\n",
              "      <td>ive wondered about rake to  the client has ma...</td>\n",
              "      <td>dont force</td>\n",
              "      <td>negative</td>\n",
              "      <td>++++</td>\n",
              "      <td>13</td>\n",
              "      <td>14</td>\n",
              "    </tr>\n",
              "    <tr>\n",
              "      <th>27378</th>\n",
              "      <td>f67aae2310</td>\n",
              "      <td>yay good for both of you enjoy the break  you...</td>\n",
              "      <td>yay good for both of you</td>\n",
              "      <td>positive</td>\n",
              "      <td>++++</td>\n",
              "      <td>0</td>\n",
              "      <td>5</td>\n",
              "    </tr>\n",
              "    <tr>\n",
              "      <th>27379</th>\n",
              "      <td>ed167662a5</td>\n",
              "      <td>but it was worth it  ABUSE</td>\n",
              "      <td>but it was worth it  ABUSE</td>\n",
              "      <td>positive</td>\n",
              "      <td>++++</td>\n",
              "      <td>0</td>\n",
              "      <td>5</td>\n",
              "    </tr>\n",
              "    <tr>\n",
              "      <th>27380</th>\n",
              "      <td>6f7127d9d7</td>\n",
              "      <td>all this flirting going on  the atg smiles ...</td>\n",
              "      <td>all this flirting going on  the atg smiles yay...</td>\n",
              "      <td>neutral</td>\n",
              "      <td>++++</td>\n",
              "      <td>0</td>\n",
              "      <td>9</td>\n",
              "    </tr>\n",
              "  </tbody>\n",
              "</table>\n",
              "<p>27381 rows × 7 columns</p>\n",
              "</div>"
            ],
            "text/plain": [
              "           textID  ... end_index\n",
              "0      cb774db0d1  ...         6\n",
              "1      549e992a42  ...         1\n",
              "2      088c60f138  ...         4\n",
              "3      9642c003ef  ...         4\n",
              "4      358bd9e861  ...         2\n",
              "...           ...  ...       ...\n",
              "27376  4eac33d1c0  ...         9\n",
              "27377  4f4c4fc327  ...        14\n",
              "27378  f67aae2310  ...         5\n",
              "27379  ed167662a5  ...         5\n",
              "27380  6f7127d9d7  ...         9\n",
              "\n",
              "[27381 rows x 7 columns]"
            ]
          },
          "metadata": {},
          "execution_count": 132
        }
      ]
    },
    {
      "cell_type": "code",
      "metadata": {
        "id": "VbG2of1RRwwF"
      },
      "source": [
        "with open('/content/drive//My Drive/Tweet Sentiment Extraction/updated_train.pkl','wb') as f:\n",
        "     pickle.dump(train,f)"
      ],
      "execution_count": null,
      "outputs": []
    }
  ]
}